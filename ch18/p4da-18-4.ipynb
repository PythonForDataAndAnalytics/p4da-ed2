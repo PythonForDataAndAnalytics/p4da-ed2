{
 "cells": [
  {
   "cell_type": "markdown",
   "id": "f8a196c7",
   "metadata": {},
   "source": [
    "Python for Data & Analytics - 2nd Edition<br>\n",
    "Chapter 18, section 4\n",
    "\n",
    "*** requires datafile: GuitarReviews2out.txt"
   ]
  },
  {
   "cell_type": "code",
   "execution_count": 1,
   "id": "eeb77071",
   "metadata": {},
   "outputs": [
    {
     "data": {
      "text/html": [
       "<div>\n",
       "<style scoped>\n",
       "    .dataframe tbody tr th:only-of-type {\n",
       "        vertical-align: middle;\n",
       "    }\n",
       "\n",
       "    .dataframe tbody tr th {\n",
       "        vertical-align: top;\n",
       "    }\n",
       "\n",
       "    .dataframe thead th {\n",
       "        text-align: right;\n",
       "    }\n",
       "</style>\n",
       "<table border=\"1\" class=\"dataframe\">\n",
       "  <thead>\n",
       "    <tr style=\"text-align: right;\">\n",
       "      <th></th>\n",
       "      <th>product</th>\n",
       "      <th>title</th>\n",
       "      <th>review</th>\n",
       "    </tr>\n",
       "    <tr>\n",
       "      <th>#</th>\n",
       "      <th></th>\n",
       "      <th></th>\n",
       "      <th></th>\n",
       "    </tr>\n",
       "  </thead>\n",
       "  <tbody>\n",
       "    <tr>\n",
       "      <th>1</th>\n",
       "      <td>BenderCaster</td>\n",
       "      <td>My new favorite guitar</td>\n",
       "      <td>I’ve been playing the Wes Hall for many years,...</td>\n",
       "    </tr>\n",
       "    <tr>\n",
       "      <th>2</th>\n",
       "      <td>BenderCaster</td>\n",
       "      <td>Good but not Great</td>\n",
       "      <td>The Bender Caster sounds clean, the 3-position...</td>\n",
       "    </tr>\n",
       "    <tr>\n",
       "      <th>3</th>\n",
       "      <td>BenderCaster</td>\n",
       "      <td>Try before buying</td>\n",
       "      <td>I tried the Caster in my local music store and...</td>\n",
       "    </tr>\n",
       "    <tr>\n",
       "      <th>4</th>\n",
       "      <td>BenderCaster</td>\n",
       "      <td>Love It!</td>\n",
       "      <td>Everything about the Bender Caster met or exce...</td>\n",
       "    </tr>\n",
       "    <tr>\n",
       "      <th>5</th>\n",
       "      <td>BenderCaster</td>\n",
       "      <td>Great Guitar, Great Price</td>\n",
       "      <td>I’ve been playing Bender guitars for years, th...</td>\n",
       "    </tr>\n",
       "  </tbody>\n",
       "</table>\n",
       "</div>"
      ],
      "text/plain": [
       "        product                      title  \\\n",
       "#                                            \n",
       "1  BenderCaster     My new favorite guitar   \n",
       "2  BenderCaster         Good but not Great   \n",
       "3  BenderCaster          Try before buying   \n",
       "4  BenderCaster                   Love It!   \n",
       "5  BenderCaster  Great Guitar, Great Price   \n",
       "\n",
       "                                              review  \n",
       "#                                                     \n",
       "1  I’ve been playing the Wes Hall for many years,...  \n",
       "2  The Bender Caster sounds clean, the 3-position...  \n",
       "3  I tried the Caster in my local music store and...  \n",
       "4  Everything about the Bender Caster met or exce...  \n",
       "5  I’ve been playing Bender guitars for years, th...  "
      ]
     },
     "execution_count": 1,
     "metadata": {},
     "output_type": "execute_result"
    }
   ],
   "source": [
    "# DATA ACCESS: load a previously downloaded file of reviews into a DataFrame\n",
    "import pandas as pd\n",
    "df = pd.read_csv('GuitarReviews2out.txt', sep='|', index_col='#')\n",
    "df.head()"
   ]
  },
  {
   "cell_type": "code",
   "execution_count": 2,
   "id": "e2ce199c",
   "metadata": {},
   "outputs": [],
   "source": [
    "import nltk\n",
    "from nltk.sentiment import SentimentIntensityAnalyzer"
   ]
  },
  {
   "cell_type": "code",
   "execution_count": 3,
   "id": "99ba45d8",
   "metadata": {},
   "outputs": [
    {
     "name": "stderr",
     "output_type": "stream",
     "text": [
      "[nltk_data] Downloading package vader_lexicon to\n",
      "[nltk_data]     /Users/dgroner/nltk_data...\n",
      "[nltk_data]   Package vader_lexicon is already up-to-date!\n"
     ]
    },
    {
     "data": {
      "text/plain": [
       "True"
      ]
     },
     "execution_count": 3,
     "metadata": {},
     "output_type": "execute_result"
    }
   ],
   "source": [
    "# Prereq for using the Vader analyzer\n",
    "nltk.download('vader_lexicon')"
   ]
  },
  {
   "cell_type": "code",
   "execution_count": 4,
   "id": "cd856482",
   "metadata": {},
   "outputs": [],
   "source": [
    "# create a Vader analyzer\n",
    "analyzer = SentimentIntensityAnalyzer()"
   ]
  },
  {
   "cell_type": "code",
   "execution_count": 5,
   "id": "88103ac1",
   "metadata": {},
   "outputs": [
    {
     "data": {
      "text/plain": [
       "'I’ve been playing the Wes Hall for many years, but finally decided to buy this Bender Caster.  My Wes has terrific sustain, but the Caster gives me a funky sound I love!  The maple neck is terrific too.  Would highly recommend this guitar!'"
      ]
     },
     "execution_count": 5,
     "metadata": {},
     "output_type": "execute_result"
    }
   ],
   "source": [
    "# for an initialize test, use the first review\n",
    "text1 = df.iloc[0].review\n",
    "text1"
   ]
  },
  {
   "cell_type": "code",
   "execution_count": 6,
   "id": "b685bfb2",
   "metadata": {},
   "outputs": [
    {
     "data": {
      "text/plain": [
       "{'neg': 0.028, 'neu': 0.621, 'pos': 0.351, 'compound': 0.9646}"
      ]
     },
     "execution_count": 6,
     "metadata": {},
     "output_type": "execute_result"
    }
   ],
   "source": [
    "# calculate the polarity scores for 1 review\n",
    "analyzer.polarity_scores(text1)"
   ]
  },
  {
   "cell_type": "code",
   "execution_count": 7,
   "id": "dd08ebcf",
   "metadata": {},
   "outputs": [
    {
     "name": "stdout",
     "output_type": "stream",
     "text": [
      " 1   0.96 My new favorite guitar\n",
      " 2   0.81 Good but not Great\n",
      " 3   0.49 Try before buying\n",
      " 4   0.95 Love It!\n",
      " 5   0.91 Great Guitar, Great Price\n",
      " 6   0.98 Amazing Guitar\n",
      " 7   0.92 None better\n",
      " 8   0.97 Great Choice\n",
      " 9  -0.82 Good Guitar but Pricey\n",
      "10   0.53 It’s it\n"
     ]
    }
   ],
   "source": [
    "compoundList = []\n",
    "for index, row in df.iterrows():\n",
    "   text = row.review\n",
    "   scores = analyzer.polarity_scores(text)\n",
    "   compound = scores['compound']\n",
    "   print(format(index,'2d'), format(compound, '6.2f'), row.title)\n",
    "   compoundList.append(compound)"
   ]
  },
  {
   "cell_type": "code",
   "execution_count": 8,
   "id": "69341d30",
   "metadata": {},
   "outputs": [],
   "source": [
    "# determine polarity scores for text, and return the compound score\n",
    "def compoundScore(text):\n",
    "   scores = analyzer.polarity_scores(text)\n",
    "   return scores['compound']"
   ]
  },
  {
   "cell_type": "code",
   "execution_count": 9,
   "id": "e9878497",
   "metadata": {},
   "outputs": [
    {
     "data": {
      "text/html": [
       "<div>\n",
       "<style scoped>\n",
       "    .dataframe tbody tr th:only-of-type {\n",
       "        vertical-align: middle;\n",
       "    }\n",
       "\n",
       "    .dataframe tbody tr th {\n",
       "        vertical-align: top;\n",
       "    }\n",
       "\n",
       "    .dataframe thead th {\n",
       "        text-align: right;\n",
       "    }\n",
       "</style>\n",
       "<table border=\"1\" class=\"dataframe\">\n",
       "  <thead>\n",
       "    <tr style=\"text-align: right;\">\n",
       "      <th></th>\n",
       "      <th>product</th>\n",
       "      <th>title</th>\n",
       "      <th>review</th>\n",
       "      <th>compound</th>\n",
       "    </tr>\n",
       "    <tr>\n",
       "      <th>#</th>\n",
       "      <th></th>\n",
       "      <th></th>\n",
       "      <th></th>\n",
       "      <th></th>\n",
       "    </tr>\n",
       "  </thead>\n",
       "  <tbody>\n",
       "    <tr>\n",
       "      <th>1</th>\n",
       "      <td>BenderCaster</td>\n",
       "      <td>My new favorite guitar</td>\n",
       "      <td>I’ve been playing the Wes Hall for many years,...</td>\n",
       "      <td>0.9646</td>\n",
       "    </tr>\n",
       "    <tr>\n",
       "      <th>2</th>\n",
       "      <td>BenderCaster</td>\n",
       "      <td>Good but not Great</td>\n",
       "      <td>The Bender Caster sounds clean, the 3-position...</td>\n",
       "      <td>0.8074</td>\n",
       "    </tr>\n",
       "    <tr>\n",
       "      <th>3</th>\n",
       "      <td>BenderCaster</td>\n",
       "      <td>Try before buying</td>\n",
       "      <td>I tried the Caster in my local music store and...</td>\n",
       "      <td>0.4854</td>\n",
       "    </tr>\n",
       "    <tr>\n",
       "      <th>4</th>\n",
       "      <td>BenderCaster</td>\n",
       "      <td>Love It!</td>\n",
       "      <td>Everything about the Bender Caster met or exce...</td>\n",
       "      <td>0.9533</td>\n",
       "    </tr>\n",
       "    <tr>\n",
       "      <th>5</th>\n",
       "      <td>BenderCaster</td>\n",
       "      <td>Great Guitar, Great Price</td>\n",
       "      <td>I’ve been playing Bender guitars for years, th...</td>\n",
       "      <td>0.9136</td>\n",
       "    </tr>\n",
       "    <tr>\n",
       "      <th>6</th>\n",
       "      <td>WesHall</td>\n",
       "      <td>Amazing Guitar</td>\n",
       "      <td>I’ve been playing an entry level guitar for ye...</td>\n",
       "      <td>0.9751</td>\n",
       "    </tr>\n",
       "    <tr>\n",
       "      <th>7</th>\n",
       "      <td>WesHall</td>\n",
       "      <td>None better</td>\n",
       "      <td>The Wes Hall is THE GUITAR for rock &amp; roll.  I...</td>\n",
       "      <td>0.9184</td>\n",
       "    </tr>\n",
       "    <tr>\n",
       "      <th>8</th>\n",
       "      <td>WesHall</td>\n",
       "      <td>Great Choice</td>\n",
       "      <td>I’ve been playing guitar occasionally but now ...</td>\n",
       "      <td>0.9738</td>\n",
       "    </tr>\n",
       "    <tr>\n",
       "      <th>9</th>\n",
       "      <td>WesHall</td>\n",
       "      <td>Good Guitar but Pricey</td>\n",
       "      <td>I was excited to order the Wes but given the p...</td>\n",
       "      <td>-0.8225</td>\n",
       "    </tr>\n",
       "    <tr>\n",
       "      <th>10</th>\n",
       "      <td>WesHall</td>\n",
       "      <td>It’s it</td>\n",
       "      <td>Unbelievable!  It’s the classic, the original....</td>\n",
       "      <td>0.5255</td>\n",
       "    </tr>\n",
       "  </tbody>\n",
       "</table>\n",
       "</div>"
      ],
      "text/plain": [
       "         product                      title  \\\n",
       "#                                             \n",
       "1   BenderCaster     My new favorite guitar   \n",
       "2   BenderCaster         Good but not Great   \n",
       "3   BenderCaster          Try before buying   \n",
       "4   BenderCaster                   Love It!   \n",
       "5   BenderCaster  Great Guitar, Great Price   \n",
       "6        WesHall             Amazing Guitar   \n",
       "7        WesHall                None better   \n",
       "8        WesHall               Great Choice   \n",
       "9        WesHall     Good Guitar but Pricey   \n",
       "10       WesHall                    It’s it   \n",
       "\n",
       "                                               review  compound  \n",
       "#                                                                \n",
       "1   I’ve been playing the Wes Hall for many years,...    0.9646  \n",
       "2   The Bender Caster sounds clean, the 3-position...    0.8074  \n",
       "3   I tried the Caster in my local music store and...    0.4854  \n",
       "4   Everything about the Bender Caster met or exce...    0.9533  \n",
       "5   I’ve been playing Bender guitars for years, th...    0.9136  \n",
       "6   I’ve been playing an entry level guitar for ye...    0.9751  \n",
       "7   The Wes Hall is THE GUITAR for rock & roll.  I...    0.9184  \n",
       "8   I’ve been playing guitar occasionally but now ...    0.9738  \n",
       "9   I was excited to order the Wes but given the p...   -0.8225  \n",
       "10  Unbelievable!  It’s the classic, the original....    0.5255  "
      ]
     },
     "execution_count": 9,
     "metadata": {},
     "output_type": "execute_result"
    }
   ],
   "source": [
    "df['compound'] = df['review'].apply(compoundScore)\n",
    "df"
   ]
  },
  {
   "cell_type": "markdown",
   "id": "8ba62333",
   "metadata": {},
   "source": [
    "Code from: Python for Data & Analytics, (c) 2025 Rose River Software, LLC"
   ]
  }
 ],
 "metadata": {
  "colab": {
   "name": "p4da-18-4.ipynb",
   "provenance": []
  },
  "kernelspec": {
   "display_name": "Python 3 (ipykernel)",
   "language": "python",
   "name": "python3"
  },
  "language_info": {
   "codemirror_mode": {
    "name": "ipython",
    "version": 3
   },
   "file_extension": ".py",
   "mimetype": "text/x-python",
   "name": "python",
   "nbconvert_exporter": "python",
   "pygments_lexer": "ipython3",
   "version": "3.12.4"
  }
 },
 "nbformat": 4,
 "nbformat_minor": 5
}
