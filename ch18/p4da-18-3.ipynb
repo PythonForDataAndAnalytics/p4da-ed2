{
 "cells": [
  {
   "cell_type": "markdown",
   "id": "f8a196c7",
   "metadata": {},
   "source": [
    "Python for Data & Analytics - 2nd Edition<br>\n",
    "Chapter 18, section 3\n",
    "\n",
    "*** requires datafile: GuitarReviews2out.txt"
   ]
  },
  {
   "cell_type": "code",
   "execution_count": 1,
   "id": "eeb77071",
   "metadata": {},
   "outputs": [
    {
     "data": {
      "text/html": [
       "<div>\n",
       "<style scoped>\n",
       "    .dataframe tbody tr th:only-of-type {\n",
       "        vertical-align: middle;\n",
       "    }\n",
       "\n",
       "    .dataframe tbody tr th {\n",
       "        vertical-align: top;\n",
       "    }\n",
       "\n",
       "    .dataframe thead th {\n",
       "        text-align: right;\n",
       "    }\n",
       "</style>\n",
       "<table border=\"1\" class=\"dataframe\">\n",
       "  <thead>\n",
       "    <tr style=\"text-align: right;\">\n",
       "      <th></th>\n",
       "      <th>product</th>\n",
       "      <th>title</th>\n",
       "      <th>review</th>\n",
       "    </tr>\n",
       "    <tr>\n",
       "      <th>#</th>\n",
       "      <th></th>\n",
       "      <th></th>\n",
       "      <th></th>\n",
       "    </tr>\n",
       "  </thead>\n",
       "  <tbody>\n",
       "    <tr>\n",
       "      <th>1</th>\n",
       "      <td>BenderCaster</td>\n",
       "      <td>My new favorite guitar</td>\n",
       "      <td>I’ve been playing the Wes Hall for many years,...</td>\n",
       "    </tr>\n",
       "    <tr>\n",
       "      <th>2</th>\n",
       "      <td>BenderCaster</td>\n",
       "      <td>Good but not Great</td>\n",
       "      <td>The Bender Caster sounds clean, the 3-position...</td>\n",
       "    </tr>\n",
       "    <tr>\n",
       "      <th>3</th>\n",
       "      <td>BenderCaster</td>\n",
       "      <td>Try before buying</td>\n",
       "      <td>I tried the Caster in my local music store and...</td>\n",
       "    </tr>\n",
       "    <tr>\n",
       "      <th>4</th>\n",
       "      <td>BenderCaster</td>\n",
       "      <td>Love It!</td>\n",
       "      <td>Everything about the Bender Caster met or exce...</td>\n",
       "    </tr>\n",
       "    <tr>\n",
       "      <th>5</th>\n",
       "      <td>BenderCaster</td>\n",
       "      <td>Great Guitar, Great Price</td>\n",
       "      <td>I’ve been playing Bender guitars for years, th...</td>\n",
       "    </tr>\n",
       "  </tbody>\n",
       "</table>\n",
       "</div>"
      ],
      "text/plain": [
       "        product                      title  \\\n",
       "#                                            \n",
       "1  BenderCaster     My new favorite guitar   \n",
       "2  BenderCaster         Good but not Great   \n",
       "3  BenderCaster          Try before buying   \n",
       "4  BenderCaster                   Love It!   \n",
       "5  BenderCaster  Great Guitar, Great Price   \n",
       "\n",
       "                                              review  \n",
       "#                                                     \n",
       "1  I’ve been playing the Wes Hall for many years,...  \n",
       "2  The Bender Caster sounds clean, the 3-position...  \n",
       "3  I tried the Caster in my local music store and...  \n",
       "4  Everything about the Bender Caster met or exce...  \n",
       "5  I’ve been playing Bender guitars for years, th...  "
      ]
     },
     "execution_count": 1,
     "metadata": {},
     "output_type": "execute_result"
    }
   ],
   "source": [
    "# DATA ACCESS: load a previously downloaded file of reviews into a DataFrame\n",
    "import pandas as pd\n",
    "df = pd.read_csv('GuitarReviews2out.txt', sep='|', index_col='#')\n",
    "df.head()"
   ]
  },
  {
   "cell_type": "code",
   "execution_count": 2,
   "id": "9be53fc1",
   "metadata": {},
   "outputs": [
    {
     "data": {
      "text/plain": [
       "'I’ve been playing the Wes Hall for many years, but finally decided to buy this Bender Caster.  My Wes has terrific sustain, but the Caster gives me a funky sound I love!  The maple neck is terrific too.  Would highly recommend this guitar!'"
      ]
     },
     "execution_count": 2,
     "metadata": {},
     "output_type": "execute_result"
    }
   ],
   "source": [
    "# CHECK: the first review\n",
    "df.iloc[0].review"
   ]
  },
  {
   "cell_type": "code",
   "execution_count": 3,
   "id": "655b3cd5",
   "metadata": {},
   "outputs": [],
   "source": [
    "# PREPARE: combine reviews\n",
    "allTextList = df.review.to_list()\n",
    "allText = ' '.join(allTextList)"
   ]
  },
  {
   "cell_type": "code",
   "execution_count": 4,
   "id": "b1d557c1",
   "metadata": {},
   "outputs": [],
   "source": [
    "import nltk"
   ]
  },
  {
   "cell_type": "code",
   "execution_count": 5,
   "id": "662e8100",
   "metadata": {},
   "outputs": [
    {
     "name": "stderr",
     "output_type": "stream",
     "text": [
      "[nltk_data] Downloading package punkt to /Users/dgroner/nltk_data...\n",
      "[nltk_data]   Unzipping tokenizers/punkt.zip.\n"
     ]
    },
    {
     "data": {
      "text/plain": [
       "True"
      ]
     },
     "execution_count": 5,
     "metadata": {},
     "output_type": "execute_result"
    }
   ],
   "source": [
    "nltk.download('punkt')"
   ]
  },
  {
   "cell_type": "code",
   "execution_count": 6,
   "id": "7ba26efc",
   "metadata": {},
   "outputs": [
    {
     "data": {
      "text/plain": [
       "['I', '’', 've', 'been', 'playing', 'the', 'Wes', 'Hall']"
      ]
     },
     "execution_count": 6,
     "metadata": {},
     "output_type": "execute_result"
    }
   ],
   "source": [
    "# TOKENIZE: nltk can tokenize the text\n",
    "tokens = nltk.word_tokenize(allText)\n",
    "tokens[:8]"
   ]
  },
  {
   "cell_type": "code",
   "execution_count": 7,
   "id": "35935090",
   "metadata": {},
   "outputs": [
    {
     "data": {
      "text/plain": [
       "FreqDist({'.': 34, 'the': 26, 'I': 19, ',': 17, '’': 12, 'but': 11, 'The': 11, 'to': 8, 'is': 8, 'and': 8, ...})"
      ]
     },
     "execution_count": 7,
     "metadata": {},
     "output_type": "execute_result"
    }
   ],
   "source": [
    "# STATISTICS: count # of occurrences of each word (nltk FreqDist class)\n",
    "wordFrequency = nltk.FreqDist(tokens)\n",
    "wordFrequency"
   ]
  },
  {
   "cell_type": "code",
   "execution_count": 8,
   "id": "910c252d",
   "metadata": {},
   "outputs": [
    {
     "data": {
      "image/png": "[encoded data removed]",
      "text/plain": [
       "<Figure size 432x288 with 1 Axes>"
      ]
     },
     "metadata": {
      "needs_background": "light"
     },
     "output_type": "display_data"
    },
    {
     "data": {
      "text/plain": [
       "<AxesSubplot:xlabel='Samples', ylabel='Counts'>"
      ]
     },
     "execution_count": 8,
     "metadata": {},
     "output_type": "execute_result"
    }
   ],
   "source": [
    "# VISUALIZE: Review the summary (nltk FreqDist)\n",
    "wordFrequency.plot(30)"
   ]
  },
  {
   "cell_type": "code",
   "execution_count": 9,
   "id": "7238afc9",
   "metadata": {},
   "outputs": [
    {
     "data": {
      "text/plain": [
       "['I', 've', 'been', 'playing', 'the', 'Wes', 'Hall', 'for']"
      ]
     },
     "execution_count": 9,
     "metadata": {},
     "output_type": "execute_result"
    }
   ],
   "source": [
    "# FILTER: only keep tokens that have letters\n",
    "words1 = [token for token in tokens if token.isalpha()]\n",
    "words1[:8]"
   ]
  },
  {
   "cell_type": "code",
   "execution_count": 10,
   "id": "5a9dd1cc",
   "metadata": {},
   "outputs": [
    {
     "data": {
      "text/plain": [
       "['i', 've', 'been', 'playing', 'the', 'wes', 'hall', 'for']"
      ]
     },
     "execution_count": 10,
     "metadata": {},
     "output_type": "execute_result"
    }
   ],
   "source": [
    "# HARMONIZE: we can fold words to lower case using list comprehension\n",
    "words2 = [word.lower() for word in words1]\n",
    "words2[:8]"
   ]
  },
  {
   "cell_type": "code",
   "execution_count": 11,
   "id": "d0ffc309",
   "metadata": {},
   "outputs": [
    {
     "name": "stderr",
     "output_type": "stream",
     "text": [
      "[nltk_data] Downloading package stopwords to\n",
      "[nltk_data]     /Users/dgroner/nltk_data...\n",
      "[nltk_data]   Unzipping corpora/stopwords.zip.\n"
     ]
    },
    {
     "data": {
      "text/plain": [
       "True"
      ]
     },
     "execution_count": 11,
     "metadata": {},
     "output_type": "execute_result"
    }
   ],
   "source": [
    "nltk.download('stopwords')"
   ]
  },
  {
   "cell_type": "code",
   "execution_count": 12,
   "id": "c9b638a8",
   "metadata": {},
   "outputs": [
    {
     "data": {
      "text/plain": [
       "list"
      ]
     },
     "execution_count": 12,
     "metadata": {},
     "output_type": "execute_result"
    }
   ],
   "source": [
    "from nltk.corpus import stopwords\n",
    "stopWords = stopwords.words('english') # get the NLTK stopwords\n",
    "type(stopWords)"
   ]
  },
  {
   "cell_type": "code",
   "execution_count": 13,
   "id": "f49c1781",
   "metadata": {},
   "outputs": [
    {
     "data": {
      "text/plain": [
       "179"
      ]
     },
     "execution_count": 13,
     "metadata": {},
     "output_type": "execute_result"
    }
   ],
   "source": [
    "len(stopWords)"
   ]
  },
  {
   "cell_type": "code",
   "execution_count": 14,
   "id": "b357220a",
   "metadata": {},
   "outputs": [
    {
     "data": {
      "text/plain": [
       "['i', 'me', 'my', 'myself', 'we', 'our', 'ours', 'ourselves']"
      ]
     },
     "execution_count": 14,
     "metadata": {},
     "output_type": "execute_result"
    }
   ],
   "source": [
    "stopWords[:8]"
   ]
  },
  {
   "cell_type": "code",
   "execution_count": 15,
   "id": "48bfc27c",
   "metadata": {},
   "outputs": [
    {
     "data": {
      "text/plain": [
       "['playing', 'wes', 'hall', 'many', 'years', 'finally', 'decided', 'buy']"
      ]
     },
     "execution_count": 15,
     "metadata": {},
     "output_type": "execute_result"
    }
   ],
   "source": [
    "# FILTER: Remove the stop words\n",
    "words3 = [word for word in words2 if word not in stopWords]\n",
    "words3[:8]"
   ]
  },
  {
   "cell_type": "code",
   "execution_count": 16,
   "id": "4a2edec6",
   "metadata": {},
   "outputs": [
    {
     "data": {
      "text/plain": [
       "FreqDist({'guitar': 8, 'great': 8, 'wes': 7, 'caster': 7, 'playing': 6, 'bender': 6, 'sounds': 6, 'hall': 4, 'terrific': 4, 'years': 3, ...})"
      ]
     },
     "execution_count": 16,
     "metadata": {},
     "output_type": "execute_result"
    }
   ],
   "source": [
    "# STATISTICS: count the # of occurrences of each word (nltk FreqDist class)\n",
    "wordFrequency3 = nltk.FreqDist(words3)\n",
    "wordFrequency3"
   ]
  },
  {
   "cell_type": "code",
   "execution_count": 17,
   "id": "c6312a11",
   "metadata": {},
   "outputs": [
    {
     "data": {
      "image/png": "[encoded data removed]",
      "text/plain": [
       "<Figure size 432x288 with 1 Axes>"
      ]
     },
     "metadata": {
      "needs_background": "light"
     },
     "output_type": "display_data"
    },
    {
     "data": {
      "text/plain": [
       "<AxesSubplot:xlabel='Samples', ylabel='Counts'>"
      ]
     },
     "execution_count": 17,
     "metadata": {},
     "output_type": "execute_result"
    }
   ],
   "source": [
    "# VISUALIZE: display a word frequency chart\n",
    "wordFrequency3.plot(30)"
   ]
  },
  {
   "cell_type": "code",
   "execution_count": 18,
   "id": "fa02d87a",
   "metadata": {},
   "outputs": [
    {
     "data": {
      "text/plain": [
       "['play', 'we', 'hall', 'mani', 'year', 'final', 'decid', 'buy']"
      ]
     },
     "execution_count": 18,
     "metadata": {},
     "output_type": "execute_result"
    }
   ],
   "source": [
    "# HARMONIZE: Use Porter Stemmer\n",
    "porterStemmer = nltk.PorterStemmer()\n",
    "words4 = [porterStemmer.stem(word) for word in words3]\n",
    "words4[:8]"
   ]
  },
  {
   "cell_type": "code",
   "execution_count": 19,
   "id": "3fbc2b45",
   "metadata": {},
   "outputs": [
    {
     "name": "stderr",
     "output_type": "stream",
     "text": [
      "[nltk_data] Downloading package averaged_perceptron_tagger to\n",
      "[nltk_data]     /Users/dgroner/nltk_data...\n",
      "[nltk_data]   Package averaged_perceptron_tagger is already up-to-\n",
      "[nltk_data]       date!\n"
     ]
    },
    {
     "data": {
      "text/plain": [
       "True"
      ]
     },
     "execution_count": 19,
     "metadata": {},
     "output_type": "execute_result"
    }
   ],
   "source": [
    "nltk.download('averaged_perceptron_tagger')"
   ]
  },
  {
   "cell_type": "code",
   "execution_count": 20,
   "id": "a3de6919",
   "metadata": {},
   "outputs": [
    {
     "data": {
      "text/plain": [
       "[('I', 'PRP'),\n",
       " ('’', 'VBP'),\n",
       " ('ve', 'RB'),\n",
       " ('been', 'VBN'),\n",
       " ('playing', 'VBG'),\n",
       " ('the', 'DT'),\n",
       " ('Wes', 'NNP'),\n",
       " ('Hall', 'NNP')]"
      ]
     },
     "execution_count": 20,
     "metadata": {},
     "output_type": "execute_result"
    }
   ],
   "source": [
    "# AUGMENT: Add part of speech to each token\n",
    "wordsWithTags = nltk.pos_tag(tokens)\n",
    "wordsWithTags[:8]"
   ]
  },
  {
   "cell_type": "code",
   "execution_count": 21,
   "id": "d2dcec4c",
   "metadata": {},
   "outputs": [
    {
     "data": {
      "text/plain": [
       "['Wes', 'Hall', 'years', 'Bender', 'Caster', 'My', 'Wes', 'sustain']"
      ]
     },
     "execution_count": 21,
     "metadata": {},
     "output_type": "execute_result"
    }
   ],
   "source": [
    "# FILTER: include only nouns (tags beginning with N)\n",
    "words5 = [word for (word,tag) in wordsWithTags if tag.startswith('N')]\n",
    "words5[:8]"
   ]
  },
  {
   "cell_type": "markdown",
   "id": "8ba62333",
   "metadata": {},
   "source": [
    "Code from: Python for Data & Analytics, (c) 2025 Rose River Software, LLC"
   ]
  }
 ],
 "metadata": {
  "colab": {
   "name": "p4da-18-3.ipynb",
   "provenance": []
  },
  "kernelspec": {
   "display_name": "Python 3 (ipykernel)",
   "language": "python",
   "name": "python3"
  },
  "language_info": {
   "codemirror_mode": {
    "name": "ipython",
    "version": 3
   },
   "file_extension": ".py",
   "mimetype": "text/x-python",
   "name": "python",
   "nbconvert_exporter": "python",
   "pygments_lexer": "ipython3",
   "version": "3.12.4"
  }
 },
 "nbformat": 4,
 "nbformat_minor": 5
}
