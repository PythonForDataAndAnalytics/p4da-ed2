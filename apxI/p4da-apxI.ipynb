{
 "cells": [
  {
   "cell_type": "markdown",
   "id": "de5dc54d-f84a-4bf1-8782-807125ffe965",
   "metadata": {},
   "source": [
    "Python for Data & Analytics - 2nd Edition<br>\n",
    "Appendix I - NumPy in Brief"
   ]
  },
  {
   "cell_type": "markdown",
   "id": "d34538e3-aee3-40d7-9b1d-a07b4d6f5ff1",
   "metadata": {},
   "source": [
    "### I.1 About NumPy"
   ]
  },
  {
   "cell_type": "code",
   "execution_count": 1,
   "id": "4ce521f2-8f3a-4e14-b05f-988857037c61",
   "metadata": {},
   "outputs": [],
   "source": [
    "import numpy as np"
   ]
  },
  {
   "cell_type": "markdown",
   "id": "7056043c-8cc8-4294-8933-c3a0eb7d8c98",
   "metadata": {},
   "source": [
    "### I.2 Creating a NumPy ndarray"
   ]
  },
  {
   "cell_type": "code",
   "execution_count": 2,
   "id": "82b2be70-2a04-4356-8d73-5a47aa1f6a99",
   "metadata": {},
   "outputs": [
    {
     "data": {
      "text/plain": [
       "array([100, 101,  99])"
      ]
     },
     "execution_count": 2,
     "metadata": {},
     "output_type": "execute_result"
    }
   ],
   "source": [
    "array = np.array([100, 101, 99])\n",
    "array"
   ]
  },
  {
   "cell_type": "code",
   "execution_count": 3,
   "id": "bd753946-f24c-438e-8544-72956ede4093",
   "metadata": {},
   "outputs": [
    {
     "data": {
      "text/plain": [
       "array([[100. , 101. ,  99. ],\n",
       "       [100. , 100.5, 101.1]])"
      ]
     },
     "execution_count": 3,
     "metadata": {},
     "output_type": "execute_result"
    }
   ],
   "source": [
    "matrix = np.array([[100, 101, 99], [100, 100.5, 101.1]])\n",
    "matrix"
   ]
  },
  {
   "cell_type": "code",
   "execution_count": 4,
   "id": "963a6493-b36a-4cfe-a044-8b0a90f64bfa",
   "metadata": {},
   "outputs": [
    {
     "data": {
      "text/plain": [
       "array([[0., 0., 0., 0.],\n",
       "       [0., 0., 0., 0.],\n",
       "       [0., 0., 0., 0.]])"
      ]
     },
     "execution_count": 4,
     "metadata": {},
     "output_type": "execute_result"
    }
   ],
   "source": [
    "matrix0s = np.zeros((3,4))\n",
    "matrix0s"
   ]
  },
  {
   "cell_type": "code",
   "execution_count": 5,
   "id": "0a3f88da-18c9-46d9-84e7-79c7a04a8a4b",
   "metadata": {},
   "outputs": [
    {
     "data": {
      "text/plain": [
       "array([[1., 1., 1., 1.],\n",
       "       [1., 1., 1., 1.],\n",
       "       [1., 1., 1., 1.]])"
      ]
     },
     "execution_count": 5,
     "metadata": {},
     "output_type": "execute_result"
    }
   ],
   "source": [
    "matrix1s = np.ones((3,4))\n",
    "matrix1s"
   ]
  },
  {
   "cell_type": "code",
   "execution_count": 6,
   "id": "680d6a1e-340d-43c7-bb85-65d645c12bef",
   "metadata": {},
   "outputs": [],
   "source": [
    "np.random.seed(0)"
   ]
  },
  {
   "cell_type": "code",
   "execution_count": 7,
   "id": "54c2784d-9ae9-4b3a-ad66-a1872f102528",
   "metadata": {},
   "outputs": [
    {
     "data": {
      "text/plain": [
       "array([5, 0, 3, 3, 7])"
      ]
     },
     "execution_count": 7,
     "metadata": {},
     "output_type": "execute_result"
    }
   ],
   "source": [
    "np.random.randint(0, 10, size=5)"
   ]
  },
  {
   "cell_type": "code",
   "execution_count": 8,
   "id": "a82e17bd-f067-4379-b616-baa0c2ea0aa8",
   "metadata": {},
   "outputs": [
    {
     "data": {
      "text/plain": [
       "array([[9, 3, 5],\n",
       "       [2, 4, 7]])"
      ]
     },
     "execution_count": 8,
     "metadata": {},
     "output_type": "execute_result"
    }
   ],
   "source": [
    "np.random.randint(0, 10, size=(2,3))"
   ]
  },
  {
   "cell_type": "code",
   "execution_count": 9,
   "id": "ac946663-0530-4a36-81f1-db4f944af244",
   "metadata": {},
   "outputs": [
    {
     "data": {
      "text/plain": [
       "array([-1. , -0.5,  0. ,  0.5,  1. ])"
      ]
     },
     "execution_count": 9,
     "metadata": {},
     "output_type": "execute_result"
    }
   ],
   "source": [
    "np.arange(-1.0, 1.5, .5)"
   ]
  },
  {
   "cell_type": "markdown",
   "id": "76a3e3b5-bec8-42af-859a-f372fbe5f38b",
   "metadata": {},
   "source": [
    "### I.3 NumPy Item Data Types"
   ]
  },
  {
   "cell_type": "code",
   "execution_count": 10,
   "id": "7693d41e-d441-41d0-923f-a19cc5f41942",
   "metadata": {},
   "outputs": [
    {
     "data": {
      "text/plain": [
       "array([[0., 0., 0., 0.],\n",
       "       [0., 0., 0., 0.],\n",
       "       [0., 0., 0., 0.]], dtype=float16)"
      ]
     },
     "execution_count": 10,
     "metadata": {},
     "output_type": "execute_result"
    }
   ],
   "source": [
    "np.zeros((3,4),dtype='float16')"
   ]
  },
  {
   "cell_type": "code",
   "execution_count": 11,
   "id": "373d3c93-9934-4bb9-b3ca-5fde77aa614f",
   "metadata": {},
   "outputs": [
    {
     "data": {
      "text/plain": [
       "array([10., 11., nan])"
      ]
     },
     "execution_count": 11,
     "metadata": {},
     "output_type": "execute_result"
    }
   ],
   "source": [
    "np.array([10, 11, np.nan])"
   ]
  },
  {
   "cell_type": "code",
   "execution_count": 12,
   "id": "cabed532-0844-46de-87c3-20e9ec471ad8",
   "metadata": {},
   "outputs": [
    {
     "data": {
      "text/plain": [
       "array(['2020-01-01', '2021-01-01', '2022-01-01'], dtype='datetime64[D]')"
      ]
     },
     "execution_count": 12,
     "metadata": {},
     "output_type": "execute_result"
    }
   ],
   "source": [
    "dates = np.array(['2020-01-01', '2021-01-01', '2022-01-01'],\n",
    "                 dtype='datetime64[D]')\n",
    "dates"
   ]
  },
  {
   "cell_type": "code",
   "execution_count": 13,
   "id": "3432c02a-a47c-48f0-9204-7cdfa9048300",
   "metadata": {},
   "outputs": [
    {
     "data": {
      "text/plain": [
       "array(['2020-01-08', '2021-01-08', '2022-01-08'], dtype='datetime64[D]')"
      ]
     },
     "execution_count": 13,
     "metadata": {},
     "output_type": "execute_result"
    }
   ],
   "source": [
    "dates+7"
   ]
  },
  {
   "cell_type": "code",
   "execution_count": 14,
   "id": "14adcb72-7f21-421b-8151-4fe98d84ed4c",
   "metadata": {},
   "outputs": [
    {
     "data": {
      "text/plain": [
       "array([['A', 'phrase'],\n",
       "       ['Another', 'phrase']], dtype='<U7')"
      ]
     },
     "execution_count": 14,
     "metadata": {},
     "output_type": "execute_result"
    }
   ],
   "source": [
    "np.array([['A', 'phrase'],['Another','phrase']])"
   ]
  },
  {
   "cell_type": "markdown",
   "id": "7f2b4caf-1ae5-4e93-9254-38d9653c3005",
   "metadata": {},
   "source": [
    "### I.4 Index and Slicing - Accessing ndarray Items"
   ]
  },
  {
   "cell_type": "code",
   "execution_count": 15,
   "id": "7be10163-7e6f-4a77-a074-d29a26e8ba86",
   "metadata": {},
   "outputs": [
    {
     "data": {
      "text/plain": [
       "100"
      ]
     },
     "execution_count": 15,
     "metadata": {},
     "output_type": "execute_result"
    }
   ],
   "source": [
    "array[0]"
   ]
  },
  {
   "cell_type": "code",
   "execution_count": 16,
   "id": "fdfa752c-86c8-4d51-816a-6651d894eb5a",
   "metadata": {},
   "outputs": [
    {
     "data": {
      "text/plain": [
       "101.0"
      ]
     },
     "execution_count": 16,
     "metadata": {},
     "output_type": "execute_result"
    }
   ],
   "source": [
    "matrix[0,1]"
   ]
  },
  {
   "cell_type": "code",
   "execution_count": 17,
   "id": "e2aaceea-dcd6-44c0-8f2b-c0c9085207ee",
   "metadata": {},
   "outputs": [
    {
     "data": {
      "text/plain": [
       "array([100., 101.,  99.])"
      ]
     },
     "execution_count": 17,
     "metadata": {},
     "output_type": "execute_result"
    }
   ],
   "source": [
    "matrix[0,:]"
   ]
  },
  {
   "cell_type": "code",
   "execution_count": 18,
   "id": "ea237a24-dcf4-43b4-a5b6-6d8235fb532b",
   "metadata": {},
   "outputs": [
    {
     "data": {
      "text/plain": [
       "array([ 99. , 101.1])"
      ]
     },
     "execution_count": 18,
     "metadata": {},
     "output_type": "execute_result"
    }
   ],
   "source": [
    "matrix[:,-1]"
   ]
  },
  {
   "cell_type": "markdown",
   "id": "10198f69-fb2d-4dce-9a32-162f2031612d",
   "metadata": {},
   "source": [
    "### I.5 Calculations"
   ]
  },
  {
   "cell_type": "code",
   "execution_count": 19,
   "id": "50122c7a-f8ef-4cb5-bf8e-5f44f7259789",
   "metadata": {},
   "outputs": [
    {
     "data": {
      "text/plain": [
       "array([[10000., 10100.,  9900.],\n",
       "       [10000., 10050., 10110.]])"
      ]
     },
     "execution_count": 19,
     "metadata": {},
     "output_type": "execute_result"
    }
   ],
   "source": [
    "matrix * 100"
   ]
  },
  {
   "cell_type": "code",
   "execution_count": 20,
   "id": "4a94a70c-a2c5-4a0c-ae5f-afa42cf988bb",
   "metadata": {},
   "outputs": [],
   "source": [
    "balances = np.array([\n",
    "    [1000, 5000],\n",
    "    [1500, 3000],\n",
    "    [1200, 2000]\n",
    "])"
   ]
  },
  {
   "cell_type": "code",
   "execution_count": 21,
   "id": "46cbb602-953d-4f40-9188-59cd49047687",
   "metadata": {},
   "outputs": [],
   "source": [
    "rates = np.array([1, 4])"
   ]
  },
  {
   "cell_type": "code",
   "execution_count": 22,
   "id": "c2a608c4-5719-4d06-bb87-1e091dcf53a9",
   "metadata": {},
   "outputs": [
    {
     "data": {
      "text/plain": [
       "array([[1010., 5200.],\n",
       "       [1515., 3120.],\n",
       "       [1212., 2080.]])"
      ]
     },
     "execution_count": 22,
     "metadata": {},
     "output_type": "execute_result"
    }
   ],
   "source": [
    "yearEnd = balances * (1+rates/100)\n",
    "yearEnd"
   ]
  },
  {
   "cell_type": "markdown",
   "id": "291d7296-a13c-4a2b-a4ce-53ad7141252a",
   "metadata": {},
   "source": [
    "### I.6 An Example - stock price paths"
   ]
  },
  {
   "cell_type": "code",
   "execution_count": 23,
   "id": "cfbcac33-be06-4fb7-adb3-6437175a8c11",
   "metadata": {},
   "outputs": [],
   "source": [
    "npaths = 6\n",
    "nperiods = 4"
   ]
  },
  {
   "cell_type": "code",
   "execution_count": 24,
   "id": "7fce3c80-ae82-4013-b819-3d138a9877c5",
   "metadata": {},
   "outputs": [
    {
     "data": {
      "text/plain": [
       "array([[0., 0., 0., 0.],\n",
       "       [0., 0., 0., 0.],\n",
       "       [0., 0., 0., 0.],\n",
       "       [0., 0., 0., 0.],\n",
       "       [0., 0., 0., 0.],\n",
       "       [0., 0., 0., 0.]])"
      ]
     },
     "execution_count": 24,
     "metadata": {},
     "output_type": "execute_result"
    }
   ],
   "source": [
    "prices = np.zeros((npaths, nperiods))\n",
    "prices"
   ]
  },
  {
   "cell_type": "code",
   "execution_count": 25,
   "id": "1554f808-7cfb-4b2a-8e29-f01438822aae",
   "metadata": {},
   "outputs": [],
   "source": [
    "priceStart = 100\n",
    "for ipath in range(npaths):\n",
    "   prices[ipath,0] = priceStart"
   ]
  },
  {
   "cell_type": "code",
   "execution_count": 26,
   "id": "981038f8-3d08-4ab5-b2ca-91d853bc2d78",
   "metadata": {},
   "outputs": [
    {
     "name": "stdout",
     "output_type": "stream",
     "text": [
      "-1 0 -1 0 0 1 \n",
      "-1 1 -1 -1 -1 1 \n",
      "0 1 1 -1 0 0 \n"
     ]
    },
    {
     "data": {
      "text/plain": [
       "array([[100.    ,  99.    ,  98.01  ,  98.01  ],\n",
       "       [100.    , 100.    , 101.    , 102.01  ],\n",
       "       [100.    ,  99.    ,  98.01  ,  98.9901],\n",
       "       [100.    , 100.    ,  99.    ,  98.01  ],\n",
       "       [100.    , 100.    ,  99.    ,  99.    ],\n",
       "       [100.    , 101.    , 102.01  , 102.01  ]])"
      ]
     },
     "execution_count": 26,
     "metadata": {},
     "output_type": "execute_result"
    }
   ],
   "source": [
    "np.random.seed(0)\n",
    "for iperiod in range(1, nperiods):\n",
    "   for ipath in range(npaths):\n",
    "      r = np.random.randint(-1, 2)\n",
    "      print(r, end=' ')\n",
    "      prices[ipath, iperiod] = prices[ipath, iperiod-1] * (1+r/100)\n",
    "   print()\n",
    "prices"
   ]
  },
  {
   "cell_type": "code",
   "execution_count": 27,
   "id": "cfbc1cb0-6d08-48b7-9334-316dcf84e422",
   "metadata": {},
   "outputs": [],
   "source": [
    "prices2 = np.zeros((npaths, nperiods))"
   ]
  },
  {
   "cell_type": "code",
   "execution_count": 28,
   "id": "3735b218-2447-4a3b-8557-b9656099c9b9",
   "metadata": {},
   "outputs": [],
   "source": [
    "prices2[:,0] = priceStart"
   ]
  },
  {
   "cell_type": "code",
   "execution_count": 29,
   "id": "041405ae-8829-4576-8ea9-423ce9e78d66",
   "metadata": {},
   "outputs": [
    {
     "name": "stdout",
     "output_type": "stream",
     "text": [
      "[-1  0 -1  0  0  1]\n",
      "[-1  1 -1 -1 -1  1]\n",
      "[ 0  1  1 -1  0  0]\n"
     ]
    },
    {
     "data": {
      "text/plain": [
       "array([[100.    ,  99.    ,  98.01  ,  98.01  ],\n",
       "       [100.    , 100.    , 101.    , 102.01  ],\n",
       "       [100.    ,  99.    ,  98.01  ,  98.9901],\n",
       "       [100.    , 100.    ,  99.    ,  98.01  ],\n",
       "       [100.    , 100.    ,  99.    ,  99.    ],\n",
       "       [100.    , 101.    , 102.01  , 102.01  ]])"
      ]
     },
     "execution_count": 29,
     "metadata": {},
     "output_type": "execute_result"
    }
   ],
   "source": [
    "np.random.seed(0)\n",
    "for iperiod in range(1, nperiods):\n",
    "   r = np.random.randint(-1, 2, size=npaths)\n",
    "   print(r)      \n",
    "   prices2[:,iperiod] = prices2[:,iperiod-1] * (1+r/100)\n",
    "#   pass\n",
    "prices2"
   ]
  },
  {
   "cell_type": "code",
   "execution_count": 30,
   "id": "87ee0552-c9fa-4227-9d29-e80d521add02",
   "metadata": {},
   "outputs": [
    {
     "data": {
      "text/plain": [
       "array([100.  ,  99.  ,  98.01,  98.01])"
      ]
     },
     "execution_count": 30,
     "metadata": {},
     "output_type": "execute_result"
    }
   ],
   "source": [
    "# an example path\n",
    "prices2[0,:]"
   ]
  },
  {
   "cell_type": "code",
   "execution_count": 31,
   "id": "c8672e87-7558-4ed2-a523-599ca2659b22",
   "metadata": {},
   "outputs": [
    {
     "data": {
      "text/plain": [
       "array([ 98.01  , 102.01  ,  98.9901,  98.01  ,  99.    , 102.01  ])"
      ]
     },
     "execution_count": 31,
     "metadata": {},
     "output_type": "execute_result"
    }
   ],
   "source": [
    "# the ending prices across all paths\n",
    "prices[:,-1]"
   ]
  },
  {
   "cell_type": "markdown",
   "id": "5fd7e04c-b7da-4062-8688-da86cdcf8ab0",
   "metadata": {},
   "source": [
    "Code from: Python for Data & Analytics, (c) 2025 Rose River Software, LLC"
   ]
  }
 ],
 "metadata": {
  "kernelspec": {
   "display_name": "Python 3 (ipykernel)",
   "language": "python",
   "name": "python3"
  },
  "language_info": {
   "codemirror_mode": {
    "name": "ipython",
    "version": 3
   },
   "file_extension": ".py",
   "mimetype": "text/x-python",
   "name": "python",
   "nbconvert_exporter": "python",
   "pygments_lexer": "ipython3",
   "version": "3.12.2"
  }
 },
 "nbformat": 4,
 "nbformat_minor": 5
}
