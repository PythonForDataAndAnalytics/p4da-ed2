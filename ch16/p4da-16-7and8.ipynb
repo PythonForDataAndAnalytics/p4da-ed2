{
 "cells": [
  {
   "cell_type": "markdown",
   "id": "f8a196c7",
   "metadata": {},
   "source": [
    "Python for Data & Analytics - 2nd Edition<br>\n",
    "Chapter 16, sections 7 and 8\n",
    "\n",
    "*** requires datafile: members.csv"
   ]
  },
  {
   "cell_type": "code",
   "execution_count": 1,
   "id": "eeb77071",
   "metadata": {},
   "outputs": [],
   "source": [
    "import pandas as pd\n",
    "dfmembers = pd.read_csv('members.csv', parse_dates=['visitDate', 'endDate'])"
   ]
  },
  {
   "cell_type": "code",
   "execution_count": 2,
   "id": "82e373e6",
   "metadata": {},
   "outputs": [
    {
     "data": {
      "text/html": [
       "<div>\n",
       "<style scoped>\n",
       "    .dataframe tbody tr th:only-of-type {\n",
       "        vertical-align: middle;\n",
       "    }\n",
       "\n",
       "    .dataframe tbody tr th {\n",
       "        vertical-align: top;\n",
       "    }\n",
       "\n",
       "    .dataframe thead th {\n",
       "        text-align: right;\n",
       "    }\n",
       "</style>\n",
       "<table border=\"1\" class=\"dataframe\">\n",
       "  <thead>\n",
       "    <tr style=\"text-align: right;\">\n",
       "      <th></th>\n",
       "      <th>guestID</th>\n",
       "      <th>visitDate</th>\n",
       "      <th>gender</th>\n",
       "      <th>age</th>\n",
       "      <th>married</th>\n",
       "      <th>pool</th>\n",
       "      <th>gym</th>\n",
       "      <th>status</th>\n",
       "      <th>endDate</th>\n",
       "    </tr>\n",
       "  </thead>\n",
       "  <tbody>\n",
       "    <tr>\n",
       "      <th>0</th>\n",
       "      <td>6</td>\n",
       "      <td>2015-01-05</td>\n",
       "      <td>M</td>\n",
       "      <td>47</td>\n",
       "      <td>M</td>\n",
       "      <td>n</td>\n",
       "      <td>y</td>\n",
       "      <td>inactive</td>\n",
       "      <td>2017-08-01</td>\n",
       "    </tr>\n",
       "    <tr>\n",
       "      <th>1</th>\n",
       "      <td>7</td>\n",
       "      <td>2015-01-05</td>\n",
       "      <td>F</td>\n",
       "      <td>46</td>\n",
       "      <td>S</td>\n",
       "      <td>n</td>\n",
       "      <td>y</td>\n",
       "      <td>inactive</td>\n",
       "      <td>2016-11-01</td>\n",
       "    </tr>\n",
       "    <tr>\n",
       "      <th>2</th>\n",
       "      <td>10</td>\n",
       "      <td>2015-01-06</td>\n",
       "      <td>M</td>\n",
       "      <td>61</td>\n",
       "      <td>S</td>\n",
       "      <td>y</td>\n",
       "      <td>n</td>\n",
       "      <td>inactive</td>\n",
       "      <td>2016-12-01</td>\n",
       "    </tr>\n",
       "    <tr>\n",
       "      <th>3</th>\n",
       "      <td>17</td>\n",
       "      <td>2015-01-09</td>\n",
       "      <td>F</td>\n",
       "      <td>36</td>\n",
       "      <td>S</td>\n",
       "      <td>y</td>\n",
       "      <td>n</td>\n",
       "      <td>inactive</td>\n",
       "      <td>2017-01-01</td>\n",
       "    </tr>\n",
       "    <tr>\n",
       "      <th>4</th>\n",
       "      <td>24</td>\n",
       "      <td>2015-01-13</td>\n",
       "      <td>M</td>\n",
       "      <td>45</td>\n",
       "      <td>M</td>\n",
       "      <td>y</td>\n",
       "      <td>n</td>\n",
       "      <td>inactive</td>\n",
       "      <td>2016-09-01</td>\n",
       "    </tr>\n",
       "  </tbody>\n",
       "</table>\n",
       "</div>"
      ],
      "text/plain": [
       "   guestID  visitDate gender  age married pool gym    status    endDate\n",
       "0        6 2015-01-05      M   47       M    n   y  inactive 2017-08-01\n",
       "1        7 2015-01-05      F   46       S    n   y  inactive 2016-11-01\n",
       "2       10 2015-01-06      M   61       S    y   n  inactive 2016-12-01\n",
       "3       17 2015-01-09      F   36       S    y   n  inactive 2017-01-01\n",
       "4       24 2015-01-13      M   45       M    y   n  inactive 2016-09-01"
      ]
     },
     "execution_count": 2,
     "metadata": {},
     "output_type": "execute_result"
    }
   ],
   "source": [
    "dfmembers.head()"
   ]
  },
  {
   "cell_type": "code",
   "execution_count": 3,
   "id": "5c04cacb",
   "metadata": {},
   "outputs": [
    {
     "name": "stdout",
     "output_type": "stream",
     "text": [
      "<class 'pandas.core.frame.DataFrame'>\n",
      "RangeIndex: 871 entries, 0 to 870\n",
      "Data columns (total 9 columns):\n",
      " #   Column     Non-Null Count  Dtype         \n",
      "---  ------     --------------  -----         \n",
      " 0   guestID    871 non-null    int64         \n",
      " 1   visitDate  871 non-null    datetime64[ns]\n",
      " 2   gender     871 non-null    object        \n",
      " 3   age        871 non-null    int64         \n",
      " 4   married    871 non-null    object        \n",
      " 5   pool       871 non-null    object        \n",
      " 6   gym        871 non-null    object        \n",
      " 7   status     871 non-null    object        \n",
      " 8   endDate    723 non-null    datetime64[ns]\n",
      "dtypes: datetime64[ns](2), int64(2), object(5)\n",
      "memory usage: 61.4+ KB\n"
     ]
    }
   ],
   "source": [
    "dfmembers.info()"
   ]
  },
  {
   "cell_type": "code",
   "execution_count": 4,
   "id": "a959dd3e",
   "metadata": {},
   "outputs": [
    {
     "data": {
      "text/plain": [
       "148"
      ]
     },
     "execution_count": 4,
     "metadata": {},
     "output_type": "execute_result"
    }
   ],
   "source": [
    "len(dfmembers[dfmembers.status=='active'])"
   ]
  },
  {
   "cell_type": "code",
   "execution_count": 5,
   "id": "4c01fb40",
   "metadata": {},
   "outputs": [],
   "source": [
    "import seaborn as sns"
   ]
  },
  {
   "cell_type": "code",
   "execution_count": 6,
   "id": "8e7d676a",
   "metadata": {},
   "outputs": [
    {
     "data": {
      "text/plain": [
       "<Axes: xlabel='married', ylabel='count'>"
      ]
     },
     "execution_count": 6,
     "metadata": {},
     "output_type": "execute_result"
    },
    {
     "data": {
      "image/png": "[encoded data removed]",
      "text/plain": [
       "<Figure size 640x480 with 1 Axes>"
      ]
     },
     "metadata": {},
     "output_type": "display_data"
    }
   ],
   "source": [
    "sns.countplot(data=dfmembers, x='married')"
   ]
  },
  {
   "cell_type": "code",
   "execution_count": 7,
   "id": "5548b117",
   "metadata": {},
   "outputs": [
    {
     "data": {
      "text/plain": [
       "<Axes: xlabel='count', ylabel='gender'>"
      ]
     },
     "execution_count": 7,
     "metadata": {},
     "output_type": "execute_result"
    },
    {
     "data": {
      "image/png": "[encoded data removed]",
      "text/plain": [
       "<Figure size 640x480 with 1 Axes>"
      ]
     },
     "metadata": {},
     "output_type": "display_data"
    }
   ],
   "source": [
    "sns.countplot(data=dfmembers, y='gender')"
   ]
  },
  {
   "cell_type": "code",
   "execution_count": 8,
   "id": "9ff078c7",
   "metadata": {},
   "outputs": [
    {
     "data": {
      "text/plain": [
       "<Axes: xlabel='age', ylabel='count'>"
      ]
     },
     "execution_count": 8,
     "metadata": {},
     "output_type": "execute_result"
    },
    {
     "data": {
      "image/png": "[encoded data removed]",
      "text/plain": [
       "<Figure size 640x480 with 1 Axes>"
      ]
     },
     "metadata": {},
     "output_type": "display_data"
    }
   ],
   "source": [
    "sns.countplot(data=dfmembers, x='age')"
   ]
  },
  {
   "cell_type": "code",
   "execution_count": 9,
   "id": "c839c643",
   "metadata": {},
   "outputs": [
    {
     "data": {
      "text/plain": [
       "<Axes: xlabel='age', ylabel='count'>"
      ]
     },
     "execution_count": 9,
     "metadata": {},
     "output_type": "execute_result"
    },
    {
     "data": {
      "image/png": "[encoded data removed]",
      "text/plain": [
       "<Figure size 640x480 with 1 Axes>"
      ]
     },
     "metadata": {},
     "output_type": "display_data"
    }
   ],
   "source": [
    "import matplotlib.pyplot as plt\n",
    "g = sns.countplot(data=dfmembers, x='age')\n",
    "for label in g.get_xticklabels():\n",
    "   visible = int(label.get_text()) % 10 == 0\n",
    "   label.set_visible(visible)\n",
    "g"
   ]
  },
  {
   "cell_type": "code",
   "execution_count": null,
   "id": "b9cf17b5",
   "metadata": {},
   "outputs": [],
   "source": [
    "sns.displot(dfmembers.age, bins=15)"
   ]
  },
  {
   "cell_type": "code",
   "execution_count": null,
   "id": "63eca254",
   "metadata": {},
   "outputs": [],
   "source": [
    "g = sns.FacetGrid(dfmembers, col='pool', height=5)\n",
    "g = g.map(sns.histplot, 'age')"
   ]
  },
  {
   "cell_type": "code",
   "execution_count": null,
   "id": "2f92a54f",
   "metadata": {},
   "outputs": [],
   "source": [
    "len(dfmembers[(dfmembers.gym == 'y') & (dfmembers.pool == 'y')])"
   ]
  },
  {
   "cell_type": "code",
   "execution_count": null,
   "id": "fd5a7a5d",
   "metadata": {},
   "outputs": [],
   "source": [
    "sns.scatterplot(x=dfmembers.visitDate, y=dfmembers.age)"
   ]
  },
  {
   "cell_type": "code",
   "execution_count": null,
   "id": "8367906c",
   "metadata": {},
   "outputs": [],
   "source": [
    "dfmembers['year'] = dfmembers.visitDate.dt.year\n",
    "dfmembers.head()"
   ]
  },
  {
   "cell_type": "code",
   "execution_count": null,
   "id": "b31fc0e8",
   "metadata": {},
   "outputs": [],
   "source": [
    "dfmembers.pivot_table(values='guestID', index='year', aggfunc='count')"
   ]
  },
  {
   "cell_type": "code",
   "execution_count": null,
   "id": "94065f20",
   "metadata": {},
   "outputs": [],
   "source": [
    "dfByGender = dfmembers.pivot_table(values='guestID', index='year',\n",
    "                                   columns='gender', aggfunc='count')\n",
    "dfByGender"
   ]
  },
  {
   "cell_type": "code",
   "execution_count": null,
   "id": "5baf1d5a",
   "metadata": {},
   "outputs": [],
   "source": [
    "dfByGender['pctFemale'] = round(dfByGender.F /\n",
    "                               (dfByGender.F + dfByGender.M) * 100)\n",
    "dfByGender"
   ]
  },
  {
   "cell_type": "code",
   "execution_count": null,
   "id": "5be386cc",
   "metadata": {},
   "outputs": [],
   "source": [
    "sns.barplot(data=dfByGender, x=dfByGender.index, y='pctFemale')"
   ]
  },
  {
   "cell_type": "markdown",
   "id": "8ba62333",
   "metadata": {},
   "source": [
    "Code from: Python for Data & Analytics, (c) 2025 Rose River Software, LLC"
   ]
  }
 ],
 "metadata": {
  "colab": {
   "name": "p4da-16-7and8.ipynb",
   "provenance": []
  },
  "kernelspec": {
   "display_name": "Python 3 (ipykernel)",
   "language": "python",
   "name": "python3"
  },
  "language_info": {
   "codemirror_mode": {
    "name": "ipython",
    "version": 3
   },
   "file_extension": ".py",
   "mimetype": "text/x-python",
   "name": "python",
   "nbconvert_exporter": "python",
   "pygments_lexer": "ipython3",
   "version": "3.12.4"
  }
 },
 "nbformat": 4,
 "nbformat_minor": 5
}
