{
 "cells": [
  {
   "cell_type": "markdown",
   "id": "f8a196c7",
   "metadata": {},
   "source": [
    "Python for Data & Analytics - 2nd Edition<br>\n",
    "Chapter 17, section 6\n",
    "\n",
    "*** requires datafile: USIX.csv"
   ]
  },
  {
   "cell_type": "code",
   "execution_count": null,
   "id": "eeb77071",
   "metadata": {},
   "outputs": [],
   "source": [
    "import pandas as pd\n",
    "ticker = 'USIX'\n",
    "filename = ticker + '.csv'\n",
    "df = pd.read_csv(filename, index_col='Date', parse_dates=True)"
   ]
  },
  {
   "cell_type": "code",
   "execution_count": null,
   "id": "1e95e044",
   "metadata": {},
   "outputs": [],
   "source": [
    "df = df[['AdjustedClose']].copy()\n",
    "df['Return'] = df['AdjustedClose'].pct_change()\n",
    "df.head()"
   ]
  },
  {
   "cell_type": "code",
   "execution_count": null,
   "id": "2a8fec94",
   "metadata": {},
   "outputs": [],
   "source": [
    "df = df[1:]"
   ]
  },
  {
   "cell_type": "code",
   "execution_count": null,
   "id": "ccda3f0d",
   "metadata": {},
   "outputs": [],
   "source": [
    "df['Return'].plot(kind='hist', bins=50)"
   ]
  },
  {
   "cell_type": "code",
   "execution_count": null,
   "id": "d4b9619c",
   "metadata": {},
   "outputs": [],
   "source": [
    "print('Skewness=', round(df.Return.skew(),2))\n",
    "print('Kurtosis=', round(df.Return.kurt(),2))"
   ]
  },
  {
   "cell_type": "code",
   "execution_count": null,
   "id": "d5d801be",
   "metadata": {},
   "outputs": [],
   "source": [
    "import scipy.stats as stats\n",
    "print('Skewness test p-value:',\n",
    "round(stats.skewtest(df.Return).pvalue, 4))\n",
    "print('Kurtosis test p-value:',\n",
    "round(stats.kurtosistest(df.Return).pvalue, 4))"
   ]
  },
  {
   "cell_type": "code",
   "execution_count": null,
   "id": "766b75aa",
   "metadata": {},
   "outputs": [],
   "source": [
    "sd = df.Return.std()\n",
    "round(sd, 3)"
   ]
  },
  {
   "cell_type": "code",
   "execution_count": null,
   "id": "b9bb4f17",
   "metadata": {},
   "outputs": [],
   "source": [
    "df[df.Return > (sd*3)]"
   ]
  },
  {
   "cell_type": "code",
   "execution_count": null,
   "id": "775b6098",
   "metadata": {},
   "outputs": [],
   "source": [
    "df[df.Return < (-sd*3)]"
   ]
  },
  {
   "cell_type": "code",
   "execution_count": null,
   "id": "0e560b91",
   "metadata": {},
   "outputs": [],
   "source": [
    "outliers = df[(df.Return < (-3*sd)) | (df.Return > (3*sd))]"
   ]
  },
  {
   "cell_type": "code",
   "execution_count": null,
   "id": "73ad146d",
   "metadata": {},
   "outputs": [],
   "source": [
    "import matplotlib.pyplot as plt\n",
    "plt.scatter(x=outliers.index, y=outliers.Return)\n",
    "plt.xticks(rotation = 45)\n",
    "plt.show()"
   ]
  },
  {
   "cell_type": "markdown",
   "id": "8ba62333",
   "metadata": {},
   "source": [
    "Code from: Python for Data & Analytics, (c) 2025 Rose River Software, LLC"
   ]
  }
 ],
 "metadata": {
  "colab": {
   "name": "p4da-17-6.ipynb",
   "provenance": []
  },
  "kernelspec": {
   "display_name": "Python 3 (ipykernel)",
   "language": "python",
   "name": "python3"
  },
  "language_info": {
   "codemirror_mode": {
    "name": "ipython",
    "version": 3
   },
   "file_extension": ".py",
   "mimetype": "text/x-python",
   "name": "python",
   "nbconvert_exporter": "python",
   "pygments_lexer": "ipython3",
   "version": "3.12.4"
  }
 },
 "nbformat": 4,
 "nbformat_minor": 5
}
