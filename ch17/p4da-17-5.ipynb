{
 "cells": [
  {
   "cell_type": "markdown",
   "id": "f8a196c7",
   "metadata": {},
   "source": [
    "Python for Data & Analytics - 2nd Edition  \n",
    "Chapter 17, section 5  \n",
    "  \n",
    "*** requires datafile: measures2.csv"
   ]
  },
  {
   "cell_type": "code",
   "execution_count": 1,
   "id": "eeb77071",
   "metadata": {},
   "outputs": [
    {
     "data": {
      "text/plain": [
       "10.118"
      ]
     },
     "execution_count": 1,
     "metadata": {},
     "output_type": "execute_result"
    }
   ],
   "source": [
    "import numpy as np\n",
    "# the first 5 weight measures\n",
    "data = [10.11, 9.85, 10.09, 10.03, 10.51]\n",
    "mean = np.mean(data)\n",
    "round(mean,3)"
   ]
  },
  {
   "cell_type": "code",
   "execution_count": 2,
   "id": "69a8d1b8",
   "metadata": {},
   "outputs": [
    {
     "data": {
      "text/plain": [
       "(9.817630212189776, 10.41836978781022)"
      ]
     },
     "execution_count": 2,
     "metadata": {},
     "output_type": "execute_result"
    }
   ],
   "source": [
    "import scipy.stats as stats\n",
    "confint = stats.t.interval(0.95, len(data)-1,\\\n",
    "loc=mean, scale=stats.sem(data))\n",
    "confint"
   ]
  },
  {
   "cell_type": "code",
   "execution_count": 3,
   "id": "98b931d5",
   "metadata": {},
   "outputs": [],
   "source": [
    "def confinterval(x, conf=.95, decimals=None): \n",
    "   result = stats.t.interval(conf, len(x)-1,\n",
    "                             loc=np.mean(x), scale=stats.sem(x))\n",
    "   if decimals != None:\n",
    "      result = (round(result[0], decimals), round(result[1], decimals))\n",
    "   return result"
   ]
  },
  {
   "cell_type": "code",
   "execution_count": 4,
   "id": "26f8cf2c",
   "metadata": {
    "scrolled": true
   },
   "outputs": [
    {
     "data": {
      "text/html": [
       "<div>\n",
       "<style scoped>\n",
       "    .dataframe tbody tr th:only-of-type {\n",
       "        vertical-align: middle;\n",
       "    }\n",
       "\n",
       "    .dataframe tbody tr th {\n",
       "        vertical-align: top;\n",
       "    }\n",
       "\n",
       "    .dataframe thead th {\n",
       "        text-align: right;\n",
       "    }\n",
       "</style>\n",
       "<table border=\"1\" class=\"dataframe\">\n",
       "  <thead>\n",
       "    <tr style=\"text-align: right;\">\n",
       "      <th></th>\n",
       "      <th>measure</th>\n",
       "    </tr>\n",
       "    <tr>\n",
       "      <th>#</th>\n",
       "      <th></th>\n",
       "    </tr>\n",
       "  </thead>\n",
       "  <tbody>\n",
       "    <tr>\n",
       "      <th>1</th>\n",
       "      <td>10.11</td>\n",
       "    </tr>\n",
       "    <tr>\n",
       "      <th>2</th>\n",
       "      <td>9.85</td>\n",
       "    </tr>\n",
       "    <tr>\n",
       "      <th>3</th>\n",
       "      <td>10.09</td>\n",
       "    </tr>\n",
       "    <tr>\n",
       "      <th>4</th>\n",
       "      <td>10.03</td>\n",
       "    </tr>\n",
       "    <tr>\n",
       "      <th>5</th>\n",
       "      <td>10.51</td>\n",
       "    </tr>\n",
       "  </tbody>\n",
       "</table>\n",
       "</div>"
      ],
      "text/plain": [
       "   measure\n",
       "#         \n",
       "1    10.11\n",
       "2     9.85\n",
       "3    10.09\n",
       "4    10.03\n",
       "5    10.51"
      ]
     },
     "execution_count": 4,
     "metadata": {},
     "output_type": "execute_result"
    }
   ],
   "source": [
    "import pandas as pd\n",
    "measures = pd.read_csv('measures2.csv', index_col='#')\n",
    "measures.head()"
   ]
  },
  {
   "cell_type": "code",
   "execution_count": 5,
   "id": "f7f5f289",
   "metadata": {},
   "outputs": [],
   "source": [
    "early = measures.measure[0:35].tolist()\n",
    "later = measures.measure[40:].tolist()"
   ]
  },
  {
   "cell_type": "code",
   "execution_count": 6,
   "id": "d6f0e164",
   "metadata": {},
   "outputs": [
    {
     "data": {
      "text/plain": [
       "(10.069, 10.193)"
      ]
     },
     "execution_count": 6,
     "metadata": {},
     "output_type": "execute_result"
    }
   ],
   "source": [
    "confinterval(early, decimals=3)"
   ]
  },
  {
   "cell_type": "code",
   "execution_count": 7,
   "id": "91089e26",
   "metadata": {},
   "outputs": [
    {
     "name": "stdout",
     "output_type": "stream",
     "text": [
      "0.9 (9.962, 10.03)\n",
      "0.95 (9.955, 10.037)\n",
      "0.99 (9.942, 10.051)\n"
     ]
    }
   ],
   "source": [
    "for conf in (.9, .95, .99):\n",
    "   print(conf, confinterval(later, conf=conf, decimals=3))"
   ]
  },
  {
   "cell_type": "markdown",
   "id": "8ba62333",
   "metadata": {},
   "source": [
    "Code from: Python for Data & Analytics, (c) 2025 Rose River Software, LLC"
   ]
  }
 ],
 "metadata": {
  "colab": {
   "name": "p4da-17-5.ipynb",
   "provenance": []
  },
  "kernelspec": {
   "display_name": "Python 3 (ipykernel)",
   "language": "python",
   "name": "python3"
  },
  "language_info": {
   "codemirror_mode": {
    "name": "ipython",
    "version": 3
   },
   "file_extension": ".py",
   "mimetype": "text/x-python",
   "name": "python",
   "nbconvert_exporter": "python",
   "pygments_lexer": "ipython3",
   "version": "3.12.4"
  }
 },
 "nbformat": 4,
 "nbformat_minor": 5
}
