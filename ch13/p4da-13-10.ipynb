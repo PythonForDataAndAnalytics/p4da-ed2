{
 "cells": [
  {
   "cell_type": "markdown",
   "id": "2848904d-0bba-4597-bfdc-276d424082c6",
   "metadata": {},
   "source": [
    "Python for Data & Analytics  - 2nd Edition<br>\n",
    "Chapter 13, section 10\n",
    "\n",
    "*** requires datafile: env_vars.env (with GEMINI_API_KEY set to your API key)"
   ]
  },
  {
   "cell_type": "code",
   "execution_count": 1,
   "id": "a2910519-93b9-4f3f-976a-ea6eb2892b3f",
   "metadata": {},
   "outputs": [],
   "source": [
    "# import the Gemini package\n",
    "import google.generativeai as genai "
   ]
  },
  {
   "cell_type": "code",
   "execution_count": 2,
   "id": "e2bd7ca7-1ed8-45ca-b89d-dfb8fbe16533",
   "metadata": {},
   "outputs": [],
   "source": [
    "# import packages for accessing the API key from a .env file\n",
    "import os\n",
    "from dotenv import load_dotenv"
   ]
  },
  {
   "cell_type": "code",
   "execution_count": 3,
   "id": "81e2bb07-70e3-4e02-899d-a8c95017c5ab",
   "metadata": {},
   "outputs": [],
   "source": [
    "# load .env file, set API key\n",
    "envfilename = 'env_vars.env'\n",
    "load_dotenv(envfilename)\n",
    "api_key = os.getenv('GEMINI_API_KEY')\n",
    "genai.configure(api_key=api_key)"
   ]
  },
  {
   "cell_type": "code",
   "execution_count": 4,
   "id": "0768805f-1aa2-4b71-929e-49ebbdc32eaa",
   "metadata": {},
   "outputs": [],
   "source": [
    "# create a GenerativeModel\n",
    "model = genai.GenerativeModel('gemini-2.0-flash')"
   ]
  },
  {
   "cell_type": "code",
   "execution_count": 5,
   "id": "c2c4c2d6-cbce-4830-bc9d-13e8f25cd501",
   "metadata": {},
   "outputs": [
    {
     "name": "stderr",
     "output_type": "stream",
     "text": [
      "WARNING: All log messages before absl::InitializeLog() is called are written to STDERR\n",
      "I0000 00:00:1738717396.347431 4377580 check_gcp_environment_no_op.cc:29] ALTS: Platforms other than Linux and Windows are not supported\n"
     ]
    }
   ],
   "source": [
    "# submit a query to the model\n",
    "query = 'Can you tell me in a sentence or two about ' + \\\n",
    "        'the google.generativeai package?'\n",
    "response = model.generate_content(query)"
   ]
  },
  {
   "cell_type": "code",
   "execution_count": 6,
   "id": "46e1f2f8-e547-4134-ac3b-8ce86fabb950",
   "metadata": {},
   "outputs": [
    {
     "data": {
      "text/plain": [
       "google.generativeai.types.generation_types.GenerateContentResponse"
      ]
     },
     "execution_count": 6,
     "metadata": {},
     "output_type": "execute_result"
    }
   ],
   "source": [
    "# what is the type of response\n",
    "type(response)"
   ]
  },
  {
   "cell_type": "code",
   "execution_count": 7,
   "id": "0893b070-febf-44c6-b5ad-d2e228d0d811",
   "metadata": {
    "scrolled": true
   },
   "outputs": [
    {
     "data": {
      "text/plain": [
       "{'candidates': [{'content': {'parts': [{'text': \"The `google.generativeai` Python package provides a client library for interacting with Google's Generative AI APIs, allowing developers to easily integrate large language models and other generative AI capabilities into their applications.  It simplifies the process of making API requests, managing responses, and handling authentication.\\n\"}],\n",
       "    'role': 'model'},\n",
       "   'finish_reason': 1,\n",
       "   'safety_ratings': [],\n",
       "   'token_count': 0,\n",
       "   'grounding_attributions': []}],\n",
       " 'usage_metadata': {'prompt_token_count': 18,\n",
       "  'candidates_token_count': 60,\n",
       "  'total_token_count': 78,\n",
       "  'cached_content_token_count': 0}}"
      ]
     },
     "execution_count": 7,
     "metadata": {},
     "output_type": "execute_result"
    }
   ],
   "source": [
    "# convert and display the response\n",
    "responseDict = response.to_dict()\n",
    "responseDict"
   ]
  },
  {
   "cell_type": "code",
   "execution_count": 8,
   "id": "1ed345aa-124f-49c3-bcb1-00af5f6d8d60",
   "metadata": {},
   "outputs": [
    {
     "data": {
      "text/plain": [
       "1"
      ]
     },
     "execution_count": 8,
     "metadata": {},
     "output_type": "execute_result"
    }
   ],
   "source": [
    "# navigate to the 'candidates' section of the response\n",
    "candidates = responseDict['candidates']\n",
    "len(candidates)"
   ]
  },
  {
   "cell_type": "code",
   "execution_count": 9,
   "id": "b4afa3e2-cb3d-4b97-baaa-a703df5afd0b",
   "metadata": {},
   "outputs": [
    {
     "data": {
      "text/plain": [
       "\"The `google.generativeai` Python package provides a client library for interacting with Google's Generative AI APIs, allowing developers to easily integrate large language models and other generative AI capabilities into their applications.  It simplifies the process of making API requests, managing responses, and handling authentication.\\n\""
      ]
     },
     "execution_count": 9,
     "metadata": {},
     "output_type": "execute_result"
    }
   ],
   "source": [
    "# display the initial part of the first response candidate\n",
    "candidates[0]['content']['parts'][0]['text']"
   ]
  },
  {
   "cell_type": "markdown",
   "id": "61e21736-ef11-473f-8c99-7f421b7d8c03",
   "metadata": {},
   "source": [
    "Code from: Python for Data & Analytics, (c) 2025 Rose River Software, LLC"
   ]
  }
 ],
 "metadata": {
  "kernelspec": {
   "display_name": "Python 3 (ipykernel)",
   "language": "python",
   "name": "python3"
  },
  "language_info": {
   "codemirror_mode": {
    "name": "ipython",
    "version": 3
   },
   "file_extension": ".py",
   "mimetype": "text/x-python",
   "name": "python",
   "nbconvert_exporter": "python",
   "pygments_lexer": "ipython3",
   "version": "3.12.2"
  }
 },
 "nbformat": 4,
 "nbformat_minor": 5
}
