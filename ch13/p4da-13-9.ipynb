{
 "cells": [
  {
   "cell_type": "markdown",
   "id": "1f4aca56-6f3c-4fd0-80db-765af959476e",
   "metadata": {},
   "source": [
    "Python for Data & Analytics - 2nd Edition<br>\n",
    "Chapter 13, section 9\n",
    "\n",
    "*** requires datafile: env_vars.env (with NYTIMES_KEY set to your API key)"
   ]
  },
  {
   "cell_type": "code",
   "execution_count": 1,
   "id": "e53791d3-eff2-49e1-b9bc-1c1d22b27509",
   "metadata": {},
   "outputs": [],
   "source": [
    "# import packages\n",
    "import requests\n",
    "import os\n",
    "from dotenv import load_dotenv"
   ]
  },
  {
   "cell_type": "code",
   "execution_count": 2,
   "id": "bebbda83-24fb-4865-abfa-cd48cbcb505b",
   "metadata": {},
   "outputs": [],
   "source": [
    "# get API key\n",
    "envfilename = 'env_vars.env'\n",
    "load_dotenv(envfilename)\n",
    "apikey = os.getenv('NYTIMES_KEY')"
   ]
  },
  {
   "cell_type": "code",
   "execution_count": 3,
   "id": "15239a85-80a8-4869-b4aa-d859c6aecd66",
   "metadata": {},
   "outputs": [
    {
     "name": "stdout",
     "output_type": "stream",
     "text": [
      "Selected keywords: arts, business, health, home, movies, opinion, science, sports, technology\n"
     ]
    }
   ],
   "source": [
    "# form API request\n",
    "baseurl = 'https://api.nytimes.com/svc/topstories/v2/'\n",
    "print('Selected keywords: arts, business, health, home, movies, opinion, science, sports, technology')\n",
    "topic = 'business'\n",
    "url = baseurl + topic + '.json?api-key=' + apikey"
   ]
  },
  {
   "cell_type": "code",
   "execution_count": 4,
   "id": "a2e4f8a9-fe0b-4c51-af12-929dc4466a00",
   "metadata": {},
   "outputs": [],
   "source": [
    "# make request to API\n",
    "reply = requests.get(url)"
   ]
  },
  {
   "cell_type": "code",
   "execution_count": 5,
   "id": "acf14085-0475-49d0-abe3-683e1816e54f",
   "metadata": {},
   "outputs": [
    {
     "data": {
      "text/plain": [
       "200"
      ]
     },
     "execution_count": 5,
     "metadata": {},
     "output_type": "execute_result"
    }
   ],
   "source": [
    "# check the status code\n",
    "reply.status_code"
   ]
  },
  {
   "cell_type": "code",
   "execution_count": 6,
   "id": "7dc5d046-53fe-47e7-9c75-2f62b1cf8530",
   "metadata": {},
   "outputs": [],
   "source": [
    "# get the body of the reply (in this case, a dict)\n",
    "data = reply.json()"
   ]
  },
  {
   "cell_type": "code",
   "execution_count": 7,
   "id": "eced732f-6d33-428a-8d58-1957e57194d0",
   "metadata": {},
   "outputs": [
    {
     "name": "stdout",
     "output_type": "stream",
     "text": [
      "dict_keys(['status', 'copyright', 'section', 'last_updated', 'num_results', 'results'])\n"
     ]
    }
   ],
   "source": [
    "# what are the reply's keys?\n",
    "print(data.keys())"
   ]
  },
  {
   "cell_type": "code",
   "execution_count": 8,
   "id": "392e28d5-b452-4fdc-984f-1c9d282df7d1",
   "metadata": {},
   "outputs": [],
   "source": [
    "# get the articles' information\n",
    "results = data['results']"
   ]
  },
  {
   "cell_type": "code",
   "execution_count": 9,
   "id": "c6e346eb-600c-4fd5-9d64-89145aab2d9e",
   "metadata": {},
   "outputs": [
    {
     "data": {
      "text/plain": [
       "25"
      ]
     },
     "execution_count": 9,
     "metadata": {},
     "output_type": "execute_result"
    }
   ],
   "source": [
    "# how many articles were returned?\n",
    "len(results)"
   ]
  },
  {
   "cell_type": "code",
   "execution_count": 10,
   "id": "6148e0bc-a9b2-4d7c-bba5-0547d3ecaa7a",
   "metadata": {},
   "outputs": [
    {
     "name": "stdout",
     "output_type": "stream",
     "text": [
      " 1 Trump’s War With Powell Throws a Little-Known Planning Board Into Scrutiny\n",
      " 2 Trump’s Withering Criticism of Powell Puts Fed Decisions Under Microscope\n",
      " 3 Mortgage Lenders Can Use a Second Credit Score. Is That Good for Borrowers?\n",
      " 4 Is the U.S. Riskier Than Emerging Markets?\n",
      " 5 Crypto’s $4 Trillion Moment\n",
      " 6 Chevron Buys Into One of World’s Hottest Oil Projects\n",
      " 7 Conservatives Get the PBS and NPR Cuts They’ve Wanted for Decades\n",
      " 8 Tariffs on Russia Could Hurt Wary U.S. Farmers\n",
      " 9 One of These BRICS Is Not Like the Others\n",
      "10 Hot Dogs for Insomnia? A Kennedy Aide’s Start-Up Can Get You a Tax Break.\n"
     ]
    }
   ],
   "source": [
    "# display article titles\n",
    "limit = 10\n",
    "for i in range(min(limit,len(results))):\n",
    "    print(f'{i+1:2} {results[i][\"title\"]}')"
   ]
  },
  {
   "cell_type": "code",
   "execution_count": 11,
   "id": "fa70ef8a-8172-4f3e-9223-6ed26205174f",
   "metadata": {},
   "outputs": [
    {
     "name": "stdout",
     "output_type": "stream",
     "text": [
      "The National Capital Planning Commission has become pivotal in the administration’s campaign to discredit Jerome H. Powell, the chairman of the Federal Reserve.\n",
      "https://www.nytimes.com/2025/07/18/us/politics/trump-powell-fed-renovation.html\n"
     ]
    }
   ],
   "source": [
    "# get abstract for a particular title\n",
    "articleid = 1\n",
    "print(results[articleid-1]['abstract'])\n",
    "print(results[articleid-1]['url'])"
   ]
  },
  {
   "cell_type": "markdown",
   "id": "5f788431-af8a-43a4-8cb9-9ab7f17508b6",
   "metadata": {},
   "source": [
    "Code from: Python for Data & Analytics, (c) 2025 Rose River Software, LLC"
   ]
  }
 ],
 "metadata": {
  "kernelspec": {
   "display_name": "Python 3 (ipykernel)",
   "language": "python",
   "name": "python3"
  },
  "language_info": {
   "codemirror_mode": {
    "name": "ipython",
    "version": 3
   },
   "file_extension": ".py",
   "mimetype": "text/x-python",
   "name": "python",
   "nbconvert_exporter": "python",
   "pygments_lexer": "ipython3",
   "version": "3.12.2"
  }
 },
 "nbformat": 4,
 "nbformat_minor": 5
}
