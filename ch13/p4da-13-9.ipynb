{
 "cells": [
  {
   "cell_type": "markdown",
   "id": "1f4aca56-6f3c-4fd0-80db-765af959476e",
   "metadata": {},
   "source": [
    "Python for Data & Analytics - 2nd Edition<br>\n",
    "Chapter 13, section 9\n",
    "\n",
    "*** requires datafile: env_vars.env (with NYTIMES_KEY set to your API key)"
   ]
  },
  {
   "cell_type": "code",
   "execution_count": 1,
   "id": "e53791d3-eff2-49e1-b9bc-1c1d22b27509",
   "metadata": {},
   "outputs": [],
   "source": [
    "# import packages\n",
    "import requests\n",
    "import os\n",
    "from dotenv import load_dotenv"
   ]
  },
  {
   "cell_type": "code",
   "execution_count": 2,
   "id": "bebbda83-24fb-4865-abfa-cd48cbcb505b",
   "metadata": {},
   "outputs": [],
   "source": [
    "# get API key\n",
    "envfilename = 'env_vars.env'\n",
    "load_dotenv(envfilename)\n",
    "apikey = os.getenv('NYTIMES_KEY')\n",
    "#print(apikey)"
   ]
  },
  {
   "cell_type": "code",
   "execution_count": 3,
   "id": "15239a85-80a8-4869-b4aa-d859c6aecd66",
   "metadata": {},
   "outputs": [
    {
     "name": "stdout",
     "output_type": "stream",
     "text": [
      "Selected keywords: arts, business, health, home, movies, opinion, science, sports, technology\n"
     ]
    }
   ],
   "source": [
    "# form API request\n",
    "baseurl = 'https://api.nytimes.com/svc/topstories/v2/'\n",
    "print('Selected keywords: arts, business, health, home, movies, opinion, science, sports, technology')\n",
    "topic = 'business'\n",
    "url = baseurl + topic + '.json?api-key=' + apikey\n",
    "#print(url)"
   ]
  },
  {
   "cell_type": "code",
   "execution_count": 4,
   "id": "a2e4f8a9-fe0b-4c51-af12-929dc4466a00",
   "metadata": {},
   "outputs": [],
   "source": [
    "# make request to API\n",
    "reply = requests.get(url)"
   ]
  },
  {
   "cell_type": "code",
   "execution_count": 5,
   "id": "acf14085-0475-49d0-abe3-683e1816e54f",
   "metadata": {},
   "outputs": [
    {
     "data": {
      "text/plain": [
       "200"
      ]
     },
     "execution_count": 5,
     "metadata": {},
     "output_type": "execute_result"
    }
   ],
   "source": [
    "# check the status code\n",
    "reply.status_code"
   ]
  },
  {
   "cell_type": "code",
   "execution_count": 6,
   "id": "7dc5d046-53fe-47e7-9c75-2f62b1cf8530",
   "metadata": {},
   "outputs": [],
   "source": [
    "# get the body of the reply (in this case, a dict)\n",
    "data = reply.json()"
   ]
  },
  {
   "cell_type": "code",
   "execution_count": 7,
   "id": "eced732f-6d33-428a-8d58-1957e57194d0",
   "metadata": {},
   "outputs": [
    {
     "name": "stdout",
     "output_type": "stream",
     "text": [
      "dict_keys(['status', 'copyright', 'section', 'last_updated', 'num_results', 'results'])\n"
     ]
    }
   ],
   "source": [
    "# what are the reply's keys?\n",
    "print(data.keys())"
   ]
  },
  {
   "cell_type": "code",
   "execution_count": 8,
   "id": "392e28d5-b452-4fdc-984f-1c9d282df7d1",
   "metadata": {},
   "outputs": [],
   "source": [
    "# get the articles' information\n",
    "results = data['results']"
   ]
  },
  {
   "cell_type": "code",
   "execution_count": 9,
   "id": "c6e346eb-600c-4fd5-9d64-89145aab2d9e",
   "metadata": {},
   "outputs": [
    {
     "data": {
      "text/plain": [
       "34"
      ]
     },
     "execution_count": 9,
     "metadata": {},
     "output_type": "execute_result"
    }
   ],
   "source": [
    "# how many articles were returned?\n",
    "len(results)"
   ]
  },
  {
   "cell_type": "code",
   "execution_count": 10,
   "id": "6148e0bc-a9b2-4d7c-bba5-0547d3ecaa7a",
   "metadata": {},
   "outputs": [
    {
     "name": "stdout",
     "output_type": "stream",
     "text": [
      " 1 As Trump’s Trade War Unfolds, American Companies Brace for Pain\n",
      " 2 It’s Tough Being a Buffalo Bills Fan, Especially in Antarctica\n",
      " 3 China Counters Trump’s Tariffs As Talks Remain in Limbo\n",
      " 4 Fed Official Pushes Back on Pre-emptive Policy Moves\n",
      " 5 After Tariff Fight With Canada and Mexico, Trump’s Next Target Is Europe\n",
      " 6 Mexico and Canada Reach Last-Minute Deal With Trump to Avert Trade War\n",
      " 7 One Response to Trump’s Tariffs: Trade That Excludes the U.S.\n",
      " 8 Europe Grapples With Energy Crisis, Three Years After Ukraine Invasion\n",
      " 9 Panama Canal Fees Have Become a Flashpoint. Here’s Why They’ve Risen.\n",
      "10 Conditions May Have Stymied Black Hawk Crew Before Fatal Crash\n"
     ]
    }
   ],
   "source": [
    "# display article titles\n",
    "limit = 10\n",
    "for i in range(min(limit,len(results))):\n",
    "    print(f'{i+1:2} {results[i][\"title\"]}')"
   ]
  },
  {
   "cell_type": "code",
   "execution_count": 11,
   "id": "fa70ef8a-8172-4f3e-9223-6ed26205174f",
   "metadata": {},
   "outputs": [
    {
     "name": "stdout",
     "output_type": "stream",
     "text": [
      "The Army pilots were juggling dark skies, low altitude, a busy airspace and a cockpit without certain traffic detectors before the helicopter’s midair crash with a regional passenger jet.\n",
      "https://www.nytimes.com/2025/02/04/us/politics/plane-helicopter-crash-reagan-airport.html\n"
     ]
    }
   ],
   "source": [
    "# get abstract for a particular title\n",
    "articleid = 10\n",
    "print(results[articleid-1]['abstract'])\n",
    "print(results[articleid-1]['url'])"
   ]
  },
  {
   "cell_type": "markdown",
   "id": "5f788431-af8a-43a4-8cb9-9ab7f17508b6",
   "metadata": {},
   "source": [
    "Code from: Python for Data & Analytics, (c) 2025 Rose River Software, LLC"
   ]
  }
 ],
 "metadata": {
  "kernelspec": {
   "display_name": "Python 3 (ipykernel)",
   "language": "python",
   "name": "python3"
  },
  "language_info": {
   "codemirror_mode": {
    "name": "ipython",
    "version": 3
   },
   "file_extension": ".py",
   "mimetype": "text/x-python",
   "name": "python",
   "nbconvert_exporter": "python",
   "pygments_lexer": "ipython3",
   "version": "3.12.4"
  }
 },
 "nbformat": 4,
 "nbformat_minor": 5
}
