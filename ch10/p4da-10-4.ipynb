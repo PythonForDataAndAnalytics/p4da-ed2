{
 "cells": [
  {
   "cell_type": "markdown",
   "id": "f8a196c7",
   "metadata": {},
   "source": [
    "Python for Data & Analytics - 2nd Edition<br>\n",
    "Chapter 10, section 4\n",
    "\n",
    "*** requires datafiles: aqi.txt, SP500_Constituents.csv"
   ]
  },
  {
   "cell_type": "code",
   "execution_count": 1,
   "id": "eeb77071",
   "metadata": {},
   "outputs": [],
   "source": [
    "import pandas as pd\n",
    "dfAQI = pd.read_csv('aqi.txt', index_col='color')\n",
    "dfsp = pd.read_csv('SP500_Constituents.csv', index_col='Symbol')"
   ]
  },
  {
   "cell_type": "code",
   "execution_count": 2,
   "id": "df5c2fac",
   "metadata": {},
   "outputs": [
    {
     "data": {
      "text/plain": [
       "color\n",
       "Green                               Good\n",
       "Yellow                          Moderate\n",
       "Orange    Unhealthy for Sensitive Groups\n",
       "Red                            Unhealthy\n",
       "Purple                    Very Unhealthy\n",
       "Maroon                         Hazardous\n",
       "Name: concern, dtype: object"
      ]
     },
     "execution_count": 2,
     "metadata": {},
     "output_type": "execute_result"
    }
   ],
   "source": [
    "dfAQI['concern']"
   ]
  },
  {
   "cell_type": "code",
   "execution_count": 3,
   "id": "918319af",
   "metadata": {},
   "outputs": [
    {
     "data": {
      "text/plain": [
       "pandas.core.series.Series"
      ]
     },
     "execution_count": 3,
     "metadata": {},
     "output_type": "execute_result"
    }
   ],
   "source": [
    "type(dfAQI['concern'])"
   ]
  },
  {
   "cell_type": "code",
   "execution_count": 4,
   "id": "9c2dae30",
   "metadata": {},
   "outputs": [
    {
     "data": {
      "text/plain": [
       "['Good',\n",
       " 'Moderate',\n",
       " 'Unhealthy for Sensitive Groups',\n",
       " 'Unhealthy',\n",
       " 'Very Unhealthy',\n",
       " 'Hazardous']"
      ]
     },
     "execution_count": 4,
     "metadata": {},
     "output_type": "execute_result"
    }
   ],
   "source": [
    "dfAQI['concern'].tolist()"
   ]
  },
  {
   "cell_type": "code",
   "execution_count": 5,
   "id": "99c86be5",
   "metadata": {},
   "outputs": [
    {
     "data": {
      "text/html": [
       "<div>\n",
       "<style scoped>\n",
       "    .dataframe tbody tr th:only-of-type {\n",
       "        vertical-align: middle;\n",
       "    }\n",
       "\n",
       "    .dataframe tbody tr th {\n",
       "        vertical-align: top;\n",
       "    }\n",
       "\n",
       "    .dataframe thead th {\n",
       "        text-align: right;\n",
       "    }\n",
       "</style>\n",
       "<table border=\"1\" class=\"dataframe\">\n",
       "  <thead>\n",
       "    <tr style=\"text-align: right;\">\n",
       "      <th></th>\n",
       "      <th>low</th>\n",
       "      <th>high</th>\n",
       "    </tr>\n",
       "    <tr>\n",
       "      <th>color</th>\n",
       "      <th></th>\n",
       "      <th></th>\n",
       "    </tr>\n",
       "  </thead>\n",
       "  <tbody>\n",
       "    <tr>\n",
       "      <th>Green</th>\n",
       "      <td>0</td>\n",
       "      <td>50</td>\n",
       "    </tr>\n",
       "    <tr>\n",
       "      <th>Yellow</th>\n",
       "      <td>51</td>\n",
       "      <td>100</td>\n",
       "    </tr>\n",
       "    <tr>\n",
       "      <th>Orange</th>\n",
       "      <td>101</td>\n",
       "      <td>150</td>\n",
       "    </tr>\n",
       "    <tr>\n",
       "      <th>Red</th>\n",
       "      <td>151</td>\n",
       "      <td>200</td>\n",
       "    </tr>\n",
       "    <tr>\n",
       "      <th>Purple</th>\n",
       "      <td>201</td>\n",
       "      <td>300</td>\n",
       "    </tr>\n",
       "    <tr>\n",
       "      <th>Maroon</th>\n",
       "      <td>301</td>\n",
       "      <td>999</td>\n",
       "    </tr>\n",
       "  </tbody>\n",
       "</table>\n",
       "</div>"
      ],
      "text/plain": [
       "        low  high\n",
       "color            \n",
       "Green     0    50\n",
       "Yellow   51   100\n",
       "Orange  101   150\n",
       "Red     151   200\n",
       "Purple  201   300\n",
       "Maroon  301   999"
      ]
     },
     "execution_count": 5,
     "metadata": {},
     "output_type": "execute_result"
    }
   ],
   "source": [
    "dfAQI[['low', 'high']]"
   ]
  },
  {
   "cell_type": "code",
   "execution_count": 6,
   "id": "8cc944ce",
   "metadata": {},
   "outputs": [
    {
     "data": {
      "text/plain": [
       "['Green', 'Yellow', 'Orange', 'Red', 'Purple', 'Maroon']"
      ]
     },
     "execution_count": 6,
     "metadata": {},
     "output_type": "execute_result"
    }
   ],
   "source": [
    "dfAQI.index.tolist()"
   ]
  },
  {
   "cell_type": "code",
   "execution_count": 7,
   "id": "dfb0a34c",
   "metadata": {
    "scrolled": true
   },
   "outputs": [
    {
     "data": {
      "text/plain": [
       "Symbol\n",
       "MMM              3M Company\n",
       "ABT     Abbott Laboratories\n",
       "ABBV            AbbVie Inc.\n",
       "ABMD            ABIOMED Inc\n",
       "ACN           Accenture plc\n",
       "               ...         \n",
       "YUM         Yum! Brands Inc\n",
       "ZBRA     Zebra Technologies\n",
       "ZBH           Zimmer Biomet\n",
       "ZION          Zions Bancorp\n",
       "ZTS                  Zoetis\n",
       "Name: Security, Length: 505, dtype: object"
      ]
     },
     "execution_count": 7,
     "metadata": {},
     "output_type": "execute_result"
    }
   ],
   "source": [
    "dfsp.Security"
   ]
  },
  {
   "cell_type": "code",
   "execution_count": 8,
   "id": "03eb1b46",
   "metadata": {},
   "outputs": [
    {
     "data": {
      "text/plain": [
       "concern    Moderate\n",
       "low              51\n",
       "high            100\n",
       "Name: Yellow, dtype: object"
      ]
     },
     "execution_count": 8,
     "metadata": {},
     "output_type": "execute_result"
    }
   ],
   "source": [
    "dfAQI.loc['Yellow']"
   ]
  },
  {
   "cell_type": "code",
   "execution_count": 9,
   "id": "ef99b099",
   "metadata": {},
   "outputs": [
    {
     "data": {
      "text/plain": [
       "concern    Good\n",
       "low           0\n",
       "high         50\n",
       "Name: Green, dtype: object"
      ]
     },
     "execution_count": 9,
     "metadata": {},
     "output_type": "execute_result"
    }
   ],
   "source": [
    "dfAQI.iloc[0]"
   ]
  },
  {
   "cell_type": "code",
   "execution_count": 10,
   "id": "47fcdaa4",
   "metadata": {},
   "outputs": [
    {
     "data": {
      "text/plain": [
       "concern    Hazardous\n",
       "low              301\n",
       "high             999\n",
       "Name: Maroon, dtype: object"
      ]
     },
     "execution_count": 10,
     "metadata": {},
     "output_type": "execute_result"
    }
   ],
   "source": [
    "dfAQI.iloc[-1]"
   ]
  },
  {
   "cell_type": "code",
   "execution_count": 11,
   "id": "b634d227",
   "metadata": {},
   "outputs": [
    {
     "data": {
      "text/plain": [
       "Security                               3M Company\n",
       "SEC filings                               reports\n",
       "GICS Sector                           Industrials\n",
       "GICS Sub-Industry        Industrial Conglomerates\n",
       "Headquarters Location         St. Paul, Minnesota\n",
       "Date first added                       1976-08-09\n",
       "CIK                                         66740\n",
       "Founded                                      1902\n",
       "Name: MMM, dtype: object"
      ]
     },
     "execution_count": 11,
     "metadata": {},
     "output_type": "execute_result"
    }
   ],
   "source": [
    "dfsp.loc['MMM']"
   ]
  },
  {
   "cell_type": "code",
   "execution_count": 12,
   "id": "3845002b",
   "metadata": {},
   "outputs": [
    {
     "data": {
      "text/plain": [
       "'Unhealthy'"
      ]
     },
     "execution_count": 12,
     "metadata": {},
     "output_type": "execute_result"
    }
   ],
   "source": [
    "dfAQI.loc['Red']['concern']"
   ]
  },
  {
   "cell_type": "code",
   "execution_count": 13,
   "id": "7fa587fc",
   "metadata": {},
   "outputs": [
    {
     "data": {
      "text/plain": [
       "'Unhealthy'"
      ]
     },
     "execution_count": 13,
     "metadata": {},
     "output_type": "execute_result"
    }
   ],
   "source": [
    "dfAQI['concern']['Red']"
   ]
  },
  {
   "cell_type": "code",
   "execution_count": 14,
   "id": "b9df7727",
   "metadata": {},
   "outputs": [
    {
     "data": {
      "text/plain": [
       "'Industrials'"
      ]
     },
     "execution_count": 14,
     "metadata": {},
     "output_type": "execute_result"
    }
   ],
   "source": [
    "dfsp['GICS Sector']['MMM']"
   ]
  },
  {
   "cell_type": "markdown",
   "id": "8ba62333",
   "metadata": {},
   "source": [
    "Code from: Python for Data & Analytics, (c) 2025 Rose River Software, LLC"
   ]
  }
 ],
 "metadata": {
  "colab": {
   "name": "p4da-10-4.ipynb",
   "provenance": []
  },
  "kernelspec": {
   "display_name": "Python 3 (ipykernel)",
   "language": "python",
   "name": "python3"
  },
  "language_info": {
   "codemirror_mode": {
    "name": "ipython",
    "version": 3
   },
   "file_extension": ".py",
   "mimetype": "text/x-python",
   "name": "python",
   "nbconvert_exporter": "python",
   "pygments_lexer": "ipython3",
   "version": "3.12.4"
  }
 },
 "nbformat": 4,
 "nbformat_minor": 5
}
