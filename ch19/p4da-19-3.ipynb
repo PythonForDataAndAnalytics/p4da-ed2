{
 "cells": [
  {
   "cell_type": "markdown",
   "id": "3acb470a",
   "metadata": {},
   "source": [
    "Python for Data & Analytics - 2nd Edition<br>\n",
    "Chapter 19, section 3\n",
    "\n",
    "Random Numbers and Dice"
   ]
  },
  {
   "cell_type": "code",
   "execution_count": 1,
   "id": "bb0dc3fd",
   "metadata": {},
   "outputs": [],
   "source": [
    "# import for random number generation and visualization\n",
    "import numpy.random as npr\n",
    "import matplotlib.pyplot as plt"
   ]
  },
  {
   "cell_type": "code",
   "execution_count": 2,
   "id": "9daf44fa",
   "metadata": {},
   "outputs": [],
   "source": [
    "# the seed allows for reproducibility of pseudo-random numbers\n",
    "npr.seed(10)"
   ]
  },
  {
   "cell_type": "code",
   "execution_count": 3,
   "id": "b3d96285",
   "metadata": {},
   "outputs": [
    {
     "data": {
      "text/plain": [
       "2"
      ]
     },
     "execution_count": 3,
     "metadata": {},
     "output_type": "execute_result"
    }
   ],
   "source": [
    "# generate a random integer, one of (1, 2, 3, 4, 5, 6)\n",
    "npr.randint(1,7)"
   ]
  },
  {
   "cell_type": "code",
   "execution_count": 4,
   "id": "d8772ea8",
   "metadata": {},
   "outputs": [
    {
     "name": "stdout",
     "output_type": "stream",
     "text": [
      "[1608, 1715, 1728, 1704, 1641, 1604]\n"
     ]
    }
   ],
   "source": [
    "# simulate many rolls of 1 dice\n",
    "# store the count of each dice face\n",
    "# (counts[1] is for roll of 1, etc.; count[0] is not used)\n",
    "counts = [0]*7\n",
    "n = 10000 # number of dice rolls\n",
    "for i in range(n):\n",
    "    dice = npr.randint(1,7)\n",
    "    counts[dice] += 1\n",
    "print(counts[1:])"
   ]
  },
  {
   "cell_type": "code",
   "execution_count": 5,
   "id": "3da3e033",
   "metadata": {},
   "outputs": [
    {
     "data": {
      "image/png": "[encoded data removed]",
      "text/plain": [
       "<Figure size 432x288 with 1 Axes>"
      ]
     },
     "metadata": {
      "needs_background": "light"
     },
     "output_type": "display_data"
    }
   ],
   "source": [
    "# visualize the distribution of dice rolls\n",
    "plt.axhline(y=n/6, linestyle='dashed', color='black')\n",
    "plt.bar(range(1,7), counts[1:])\n",
    "plt.title('Distribution of Single Dice Rolls')\n",
    "plt.xlabel('Dice Face')\n",
    "plt.ylabel('Count')\n",
    "plt.show()"
   ]
  },
  {
   "cell_type": "code",
   "execution_count": 6,
   "id": "0b2e2064",
   "metadata": {},
   "outputs": [
    {
     "name": "stdout",
     "output_type": "stream",
     "text": [
      "[270, 543, 822, 1122, 1440, 1638, 1348, 1148, 825, 549, 295]\n"
     ]
    }
   ],
   "source": [
    "# simulation many rolls of 2 dice\n",
    "# counts[2] for dice roll of 2 ones (counts[0], counts[1] not used)\n",
    "counts = [0]*13 \n",
    "n = 10000\n",
    "for i in range(n):\n",
    "    dice1 = npr.randint(1,7)\n",
    "    dice2 = npr.randint(1,7)\n",
    "    diceTotal = dice1 + dice2\n",
    "    counts[diceTotal] += 1\n",
    "print(counts[2:])"
   ]
  },
  {
   "cell_type": "code",
   "execution_count": 7,
   "id": "4dcf8940",
   "metadata": {},
   "outputs": [
    {
     "data": {
      "image/png": "[encoded data removed]",
      "text/plain": [
       "<Figure size 432x288 with 1 Axes>"
      ]
     },
     "metadata": {
      "needs_background": "light"
     },
     "output_type": "display_data"
    }
   ],
   "source": [
    "# visualize the distribution of rolls of pairs of dice\n",
    "plt.bar(range(2,13), counts[2:])\n",
    "plt.xticks(range(2,13))\n",
    "plt.title('Distribution of Dice Pair Rolls')\n",
    "plt.xlabel('Dice Face Pair Total')\n",
    "plt.ylabel('Count')\n",
    "plt.show()"
   ]
  },
  {
   "cell_type": "markdown",
   "id": "2be22fbc",
   "metadata": {},
   "source": [
    "Code from: Python for Data & Analytics, (c) 2025 Rose River Software, LLC"
   ]
  }
 ],
 "metadata": {
  "kernelspec": {
   "display_name": "Python 3 (ipykernel)",
   "language": "python",
   "name": "python3"
  },
  "language_info": {
   "codemirror_mode": {
    "name": "ipython",
    "version": 3
   },
   "file_extension": ".py",
   "mimetype": "text/x-python",
   "name": "python",
   "nbconvert_exporter": "python",
   "pygments_lexer": "ipython3",
   "version": "3.12.4"
  }
 },
 "nbformat": 4,
 "nbformat_minor": 5
}
